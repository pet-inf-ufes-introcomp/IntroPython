{
 "cells": [
  {
   "cell_type": "markdown",
   "metadata": {},
   "source": [
    "![Header](https://lh4.googleusercontent.com/t9mNJ6u4UbFzcR3KSk770Z1QJOy0R2grricJcJFbSnb_uQaKozEqoEX6oWMIU1yqt6-LIJnOikzI0GYPSqwT=w1855-h732)",
    "Conteúdo abordado nesta aula:\n",
    "1. <a href='#section1'>Introdução</a><br>\n",
    "    1.1. <a href='#section1.1'>História</a><br>\n",
    "    1.2. <a href='#section1.2'>Vantagens e desvantagens</a><br>\n",
    "    1.3. <a href='#section1.3'>Objetivos e direcionamento da aula</a><br>\n",
    "2. <a href='#section2'>Implementação</a><br>\n",
    "    2.1. <a href='#section2.1'>Primeiros passos</a><br>\n",
    "    2.2. <a href='#section2.2'>Cores</a><br>\n",
    "    2.3. <a href='#section2.3'>Linhas, retângulos e outros polígonos</a><br>\n",
    "    2.4. <a href='#section2.4'>Game loop</a><br>\n",
    "    2.5. <a href='#section2.5'>Eventos</a><br>\n",
    "    2.6. <a href='#section2.6'>Textos e Fontes</a><br>"
   ]
  },
  {
   "cell_type": "markdown",
   "metadata": {},
   "source": [
    "<a id='section1'></a>\n",
    "\n",
    "## 1. Introdução\n",
    "\n",
    "Para dar início a esta terceira aula do nosso módulo avançado, iremos introduzir a Pygame, esta que é uma biblioteca open source usada na criação e gerenciamento de aplicações multimídia como jogos. Dessa forma, a Pygame pode ser intitulada como uma “game engine”, ou seja, um motor de jogo.\n",
    "\n",
    "É também compreendida como uma camada de abstração construída sobre a biblioteca SDL e, portanto, é altamente portável, ou seja, possui fácil adaptação a todas as plataformas e sistemas operacionais.\n"
   ]
  },
  {
   "cell_type": "markdown",
   "metadata": {},
   "source": [
    "<a id='section1.1'></a>\n",
    "\n",
    "## 1.1 História\n",
    "\n",
    "A biblioteca teve seu desenvolvimento iniciado nos anos 2000 por Pete Shinners que, ao se familiarizar melhor com a linguagem Python e a biblioteca SDL (simple directmedia library), decidiu unir essas duas coisas com o intuito de “fazer as coisas simples de maneira fácil e as coisas difíceis de maneira direta.”\n",
    "\n",
    "A biblioteca SDL é uma biblioteca, escrita em linguagem c, responsável, de maneira geral, pelos recursos de multimídia utilizados tanto em aplicações open sources, como em aplicações comerciais e empresariais. A SDL representa uma interface simples para gráficos, imagens, sons e dispositivos de entrada de várias plataformas.\n",
    "\n",
    "A descontinuidade da implementação de tal biblioteca para python, criada por Mark Baker e conhecida como pySDL, foi umas das principais inspirações para Pete iniciar um projeto mais forte e robusto, sob a SDL, que mais tarde viria a ser chamado de Pygame.\n"
   ]
  },
  {
   "cell_type": "markdown",
   "metadata": {},
   "source": [
    "<a id='section1.2'></a>\n",
    "\n",
    "## 1.2 Vantagens e desvantagens\n",
    "\n",
    "As vantagens da biblioteca se estendem das vantagens oferecidas pela própria linguagem,  vantagens estas que já foram abordadas no primeiro módulo deste curso e que podem ser resumidas na palavra “simplicidade”. Além disso a biblioteca possui uma boa documentação e conta com um grande apoio da comunidade, o que mantém o conteúdo sempre atualizado e com o mínimo de erros e “bugs”.\n",
    "\n",
    "Já as desvantagens da biblioteca são, de certa forma, um reflexo dessa simplicidade, uma vez que o Python possui uma performance relativamente baixa, resolvendo em sua maioria, apenas gráficos 2D, não havendo um suporte a aceleração de hardware. \n",
    "\n",
    "Apesar disso, a biblioteca se mostra como uma excelente ferramenta de aprendizado na área de desenvolvimento de jogos e aplicações multimídia, cujo o conhecimento adquirido pode ser levado adiante, servindo como uma boa base para se trabalhar e aprender mais dentro de tal área.\n",
    "\n"
   ]
  },
  {
   "cell_type": "markdown",
   "metadata": {},
   "source": [
    "<a id='section1.3'></a>\n",
    "\n",
    "## 1.3 Objetivos e direcionamento da aula\n",
    "\n",
    "Nesta aula, teremos como objetivo principal, entender os conceitos básicos para se implementar um jogo utilizando as funcionalidades da biblioteca Pygame. Para isso devemos primeiramente realizar a instalação da biblioteca, esta que pode ser feita de maneira bem simples através de um único comando no terminal:"
   ]
  },
  {
   "cell_type": "code",
   "execution_count": null,
   "metadata": {},
   "outputs": [],
   "source": [
    "pip install --user pygame\n"
   ]
  },
  {
   "cell_type": "markdown",
   "metadata": {},
   "source": [
    "Caso o pip não esteja instalado, execute a priori, o comando:"
   ]
  },
  {
   "cell_type": "code",
   "execution_count": null,
   "metadata": {},
   "outputs": [],
   "source": [
    "apt install python-pip"
   ]
  },
  {
   "cell_type": "markdown",
   "metadata": {},
   "source": [
    "Uma vez instalada a biblioteca, nos deparamos com o seguinte questionamento: “Por onde começar o desenvolvimento de um jogo?”\n",
    "\n",
    "Um jogo em pygame é composto de maneira geral pelos seguintes tópicos:\n",
    "\n",
    "- Loop principal (game loop)\n",
    "- Eventos e tratamento destes\n",
    "\n",
    "Para complementar tais aplicações, usamos também conhecimentos como:\n",
    "\n",
    "- Formas e polígonos\n",
    "- Textos e fontes\n",
    "- Tabela de cores\n",
    "- Tratamento de imagens\n",
    "- Sprites\n",
    "- Sons\n",
    "\n",
    "Conhecendo e entendendo bem esses tópicos, já nos tornamos aptos a desenvolver nosso primeiro jogo em pygame, então mãos à obra!\n"
   ]
  },
  {
   "cell_type": "markdown",
   "metadata": {},
   "source": [
    "<a id='section2'></a>\n",
    "\n",
    "## 2. Implementação"
   ]
  },
  {
   "cell_type": "markdown",
   "metadata": {},
   "source": [
    "<a id='section2.1'></a>\n",
    "\n",
    "### 2.1 Primeiros passos\n",
    "\n",
    "Para começar nosso jogo utilizando pygame, primeiramente devemos importar a biblioteca através do comando"
   ]
  },
  {
   "cell_type": "code",
   "execution_count": null,
   "metadata": {},
   "outputs": [],
   "source": [
    "import pygame"
   ]
  },
  {
   "cell_type": "markdown",
   "metadata": {},
   "source": [
    "Em seguida, utilizamos:"
   ]
  },
  {
   "cell_type": "code",
   "execution_count": null,
   "metadata": {
    "scrolled": true
   },
   "outputs": [],
   "source": [
    "pygame.init()"
   ]
  },
  {
   "cell_type": "markdown",
   "metadata": {},
   "source": [
    "Isso inicia funções básicas da biblioteca, e sem ele, o programa não funciona :(\n",
    "\n",
    "Após isso, a próxima coisa a se fazer é criar uma janela para o jogo. Para fazer isso, podemos criar a classe “Janela”, que tem como atributos: a altura e a largura, além da cor de fundo da tela.\n"
   ]
  },
  {
   "cell_type": "code",
   "execution_count": null,
   "metadata": {},
   "outputs": [],
   "source": [
    "class Window:\n",
    "    __width = 0 #largura\n",
    "    __height = 0 #altura\n",
    "    __color = (0, 0, 0) #cor\n",
    "\n",
    "    def __init__(self, largura, altura): #construtor\n",
    "        self.__width = largura\n",
    "        self.__height = altura\n",
    "\n",
    "    def returnWinSize(self): #retorna tamanho da tela\n",
    "        return (self.__width, self.__height)\n",
    "\n",
    "    def returnColor(self): #retorna a cor da janela\n",
    "        return self.__color"
   ]
  },
  {
   "cell_type": "markdown",
   "metadata": {},
   "source": [
    "Então, criamos nossa janela com:"
   ]
  },
  {
   "cell_type": "code",
   "execution_count": null,
   "metadata": {},
   "outputs": [],
   "source": [
    "w = Window(1600, 900) #cria objeto janela com dimensões 1600x900\n",
    "\n",
    "win = pygame.display.set_mode(w.returnWinSize()) #cria a janela do jogo"
   ]
  },
  {
   "cell_type": "markdown",
   "metadata": {},
   "source": [
    "Podemos também mudar o título da janela com o comando"
   ]
  },
  {
   "cell_type": "code",
   "execution_count": null,
   "metadata": {},
   "outputs": [],
   "source": [
    "pygame.display.set_caption('Nome_do_Jogo')"
   ]
  },
  {
   "cell_type": "markdown",
   "metadata": {},
   "source": [
    "Por fim, podemos escolher uma cor para o fundo da janela com a função:"
   ]
  },
  {
   "cell_type": "code",
   "execution_count": null,
   "metadata": {},
   "outputs": [],
   "source": [
    "win.fill(w.returnColor()) #onde win é o nome da janela que você criou. Se vocẽ chamou de outra coisa, altere este nome!\n",
    "\n",
    "#entenderemos logo a seguir o porquê de (0, 0, 0)"
   ]
  },
  {
   "cell_type": "markdown",
   "metadata": {},
   "source": [
    "<a id='section2.2'></a>\n",
    "\n",
    "### 2.2 Cores\n",
    "\n",
    "Para definirmos uma cor, utilizamos um código de cores muito conhecido, o RGB. Do inglês, RGB significa “Red Green Blue”, ou “Vermelho Verde Azul”, representando as três cores primárias do código de cores. A cor final é a mistura das três cores. \n",
    "\n",
    "Nosso código de cores serão valores inteiros que variam entre 0 e 255 para cada uma das três cores, formando uma tupla. Por exemplo:\n",
    "\n",
    "<span style='color: red'> Vermelho</span> é representado como (255, 0, 0);<br>\n",
    "<span style='color: lime'>Verde</span> é representado como (0, 255, 0)<br>\n",
    "<span style='color: blue'>Azul</span> é representado como (0, 0, 255)<br>\n",
    "<span style='color: purple'>Roxo</span> é representado como (255, 0, 255)<br>\n",
    "<span style='color: yellow'>Amarelo</span> é representado como (255, 255, 0)<br>\n",
    "\n",
    "\n",
    "Podemos criar uma cor escrevendo pygame.Color(vermelho, verde, azul)<br>\n",
    "\n",
    "Você pode encontrar o código RGB da cor que você procura <a href = \"https://www.w3schools.com/colors/colors_picker.asp\">aqui</a>!"
   ]
  },
  {
   "cell_type": "markdown",
   "metadata": {},
   "source": [
    "<a id='section2.3'></a>\n",
    "\n",
    "### 2.3 Linhas, retângulos e outros polígonos\n",
    "\n",
    "A biblioteca pygame facilita bastante o desenho de linhas, retângulos, círculos e outros polígonos, onde cada um possuirá sua determinada função. Todos eles costumam partir de `pygame.draw`. Mas escrever só essa linha não é o suficiente!\n",
    "\n",
    "Após chamar `pygame.draw.funcao()`, precisamos <b>atualizar</b> a tela, para que as alterações sejam mostradas. Para isso, utilizamos o comando `pygame.display.update()`.\n",
    "\n",
    "Para criar uma linha, escrevemos:"
   ]
  },
  {
   "cell_type": "code",
   "execution_count": null,
   "metadata": {},
   "outputs": [],
   "source": [
    "pygame.draw.line(surf, color, ponto_inicial, ponto_final, largura)"
   ]
  },
  {
   "attachments": {
    "image.png": {
     "image/png": "[encoded data removed]"
    }
   },
   "cell_type": "markdown",
   "metadata": {},
   "source": [
    "No lugar de surf, utilizaremos nossa janela, ‘win’, para simbolizar que queremos que a linha seja desenhada na janela. No lugar de color, colocamos uma cor (tanto uma tupla de inteiros como um pygame.Color()). Ponto_inicial e ponto_final são referentes aos pontos inicial e final da reta, e por fim, largura é a largura da linha (int).\n",
    "\n",
    "#### Exercício\n",
    "\n",
    "Faça um \"X\" na tela. A cor e largura da linha ficam a seu critério.\n",
    "\n",
    "![image.png](attachment:image.png)"
   ]
  },
  {
   "cell_type": "markdown",
   "metadata": {},
   "source": [
    "Para fazer um círculo, escrevemos:"
   ]
  },
  {
   "cell_type": "code",
   "execution_count": null,
   "metadata": {},
   "outputs": [],
   "source": [
    "pygame.draw.circle(surf, color, centro, raio)"
   ]
  },
  {
   "cell_type": "markdown",
   "metadata": {},
   "source": [
    "Surf será o mesmo da linha, assim como color. De forma semelhante a linha, centro é o ponto central do círculo, e raio, o raio do círculo.\n",
    "\n",
    "Para desenhar um polígono genérico, escrevemos:"
   ]
  },
  {
   "cell_type": "code",
   "execution_count": null,
   "metadata": {},
   "outputs": [],
   "source": [
    "pygame.draw.polygon(surf, color, ponto1, ponto2, ponto3, etc)"
   ]
  },
  {
   "cell_type": "markdown",
   "metadata": {},
   "source": [
    "Surf e color serão o mesmo serão os mesmo dos acima. Na função Polygon, você pode passar diversos pontos e formar um polígono, que depende do número de pontos passados e a posição deles."
   ]
  },
  {
   "cell_type": "markdown",
   "metadata": {},
   "source": [
    "Por fim, para desenhar um retângulo, escrevemos:"
   ]
  },
  {
   "cell_type": "code",
   "execution_count": null,
   "metadata": {},
   "outputs": [],
   "source": [
    "pygame.draw.rect(surf, color, (ponto1, ponto2))"
   ]
  },
  {
   "cell_type": "markdown",
   "metadata": {},
   "source": [
    "#### Exercício\n",
    "\n",
    "Imagine que você está implementando um jogo de tiro ao alvo. Um bom começo seria desenhando o alvo! O alvo pode ser composto por cinco círculos: Escolha cinco cores e desenhe um alvo com pygame!\n",
    "\n",
    "Dica: Desenhe os círculos do maior para o menor. Caso você desenhe o maior por ultimo, ele vai ficar \"em cima\" dos menores, e te dará a impressão de que você só desenhou um círculo."
   ]
  },
  {
   "attachments": {
    "game-loop-en.png": {
     "image/png": "[encoded data removed]"
    }
   },
   "cell_type": "markdown",
   "metadata": {},
   "source": [
    "<a id='section2.4'></a> \n",
    "\n",
    "### 2.4 Game Loop\n",
    "\n",
    "O conceito de loop é bem recorrente na programação e uma vez que já estamos familiarizados com ele, fica fácil compreender o funcionamento e a utilidade deste no desenvolvimento de jogos.\n",
    "\n",
    "O “game loop” é o loop principal de um jogo, sendo uma parte importante da estrutura geral deste. De maneira sucinta, dividimos ele em três subestruturas que se repetem em tempo de execução:\n",
    "Input processing (processamento de entrada)\n",
    "Game update  (atualização do jogo)\n",
    "Render (renderização)\n",
    "\n",
    "![game-loop-en.png](attachment:game-loop-en.png)\n",
    "\n",
    "A parte de processamento de entrada é também conhecida como processamento de eventos. É a parte responsável por detectar eventos advindos de dispositivo de input externos ao jogo como mouse, teclado etc.\n",
    "\n",
    "Já a parte de atualização é responsável por mudar o estado dos componentes do jogo de acordo com o processamento de entrada. Através de linhas de código, é decidido o que cada tipo de entrada encadeia dentro do nosso jogo, como por exemplo, apertar a barra de espaço e executar um pulo.\n",
    "\n",
    "Por fim, temos a renderização. Ao final do game loop, com todas alterações dentro do jogo feitas, ocorre a renderização do nosso jogo, ou seja, sua construção visual.\n",
    "\n",
    "É válido pontuar que estes acontecimentos ocorrem em tempo de execução, portanto, é interessante nos atentar ao quão rápido essas coisas acontecem.\n",
    "\n",
    "\n",
    "Dentro de um gameloop, também precisamos dizer um tempo mínimo para o programa rodar cada iteração: se você roda o mesmo jogo em um computador antigo e um computador de ponta, o que acontece é que a velocidade do jogo ficará muito mais baixa no computador antigo, e por mais que ambos consigam processar os dados em um tempo razoavel, isso gera inconsistências. Existe mais de um meio de consertar esse problema. O mais utilizado é o `pygame.time.clock()`. Porém, sua abordagem é um pouco mais complexa, e por isso, utilizaremos `pygame.time.delay()`. "
   ]
  },
  {
   "attachments": {
    "pastedImage0.png": {
     "image/png": "[encoded data removed]"
    }
   },
   "cell_type": "markdown",
   "metadata": {},
   "source": [
    "<a id='section2.5'></a>\n",
    "\n",
    "### 2.5 Eventos\n",
    "\n",
    "Como citado na parte de processamento de entrada, temos a introdução do conceito de eventos. Estes podem ser definidos como tudo aquilo que acontece externamente ao jogo. Dessa forma, podemos listar como exemplo de eventos, entradas provenientes do teclado e mouse.\n",
    "\n",
    "![pastedImage0.png](attachment:pastedImage0.png)\n",
    "\n",
    "Os eventos são essenciais aos jogos, uma vez que se faz necessário uma leitura dos padrões executados pelo jogador para que as coisas aconteçam dentro do jogo. \n",
    "\n",
    "Todas as teclas do teclado que forem apertadas entrarão para uma fila de teclas a serem processadas pelo computador. A função `pygame.event.get()` nos da uma lista com essas teclas, e então só nos resta iterar sobre essa lista e checar quais teclas foram apertadas:"
   ]
  },
  {
   "cell_type": "code",
   "execution_count": null,
   "metadata": {},
   "outputs": [],
   "source": [
    "run = True\n",
    "\n",
    "while run:\n",
    "    for event in pygame.event.get():\n",
    "            if event.type == pygame.QUIT:\n",
    "                run = False\n",
    "            if event.type == pygame.KEYDOWN:\n",
    "                if event.key == pygame.K_ESCAPE:\n",
    "                    run = False\n",
    "            "
   ]
  },
  {
   "cell_type": "markdown",
   "metadata": {},
   "source": [
    "#### Exemplo\n",
    "\n",
    "Fazer 4 if / elif que consigam identificar as setas do teclado.\n",
    "\n",
    "K_LEFT = esquerda (←)<br>\n",
    "K_RIGHT = direita (→)<br>\n",
    "K_UP = cima (↑)<br>\n",
    "K_DOWN = baixo (↓)<br>"
   ]
  },
  {
   "cell_type": "code",
   "execution_count": null,
   "metadata": {},
   "outputs": [],
   "source": [
    "for event in pygame.event.get():\n",
    "        if event.type == pygame.QUIT:\n",
    "            run = False\n",
    "        if event.type == pygame.KEYDOWN:\n",
    "            if event.key == pygame.K_LEFT:\n",
    "                print(\"←\")\n",
    "            elif event.key == pygame.K_RIGHT:\n",
    "                print(\"→\")\n",
    "            elif event.key == pygame.K_UP:\n",
    "                print(\"↑\")\n",
    "            elif event.key == pygame.K_DOWN:\n",
    "                player.moveDown(\"↓\")\n",
    "            elif event.key == pygame.K_ESCAPE:\n",
    "                run = False"
   ]
  },
  {
   "cell_type": "markdown",
   "metadata": {},
   "source": [
    "Além disso, podemos receber inputs do mouse também. Para saber se algum botão do teclado foi pressionado, usaremos uma estratégia similar a do teclado:"
   ]
  },
  {
   "cell_type": "code",
   "execution_count": null,
   "metadata": {},
   "outputs": [],
   "source": [
    "for event in pygame.event.get():\n",
    "        if event.type == pygame.QUIT:\n",
    "            run = False\n",
    "            \n",
    "        if event.type == pygame.MOUSEBUTTONDOWN:\n",
    "            if event.button == 1:\n",
    "                print(\"O botão esquerdo do mouse foi clicado!\")\n",
    "                mouseX, mouseY = pygame.mouse.get_pos()\n",
    "            \n",
    "            \n",
    "            # event.button == 1 => botão esquerdo\n",
    "            # event.button == 2 => botão do scroll\n",
    "            # event.button == 3 => botão direito\n",
    "            # event.button == 4 => qualquer botão\n"
   ]
  },
  {
   "cell_type": "markdown",
   "metadata": {},
   "source": [
    "<a id='section2.6'></a>\n",
    "\n",
    "### 2.6 Textos e fontes\n",
    "\n",
    "A biblioteca pygame traz consigo módulos para carregar e renderizar *.TTF (Truetype fonts) em forma de imagem dentro dos jogos e assim gerar textos.\n",
    "\n",
    "Para iniciar o módulo, utilizamos o comando:"
   ]
  },
  {
   "cell_type": "code",
   "execution_count": null,
   "metadata": {},
   "outputs": [],
   "source": [
    "pygame.font.init()"
   ]
  },
  {
   "cell_type": "markdown",
   "metadata": {},
   "source": [
    "E para desativá-lo"
   ]
  },
  {
   "cell_type": "code",
   "execution_count": null,
   "metadata": {},
   "outputs": [],
   "source": [
    "pygame.font.quit()"
   ]
  },
  {
   "cell_type": "markdown",
   "metadata": {},
   "source": [
    "Às vezes, pode ser útil a verificação da inicialização deste módulo. Para isso, utilizamos:"
   ]
  },
  {
   "cell_type": "code",
   "execution_count": null,
   "metadata": {},
   "outputs": [],
   "source": [
    "pygame.font.get_init()"
   ]
  },
  {
   "cell_type": "markdown",
   "metadata": {},
   "source": [
    "Essa função retorna um booleano True caso o módulo tenha sido inicializado e False caso contrário.\n",
    "\n",
    "Podemos importar uma determinada fonte a nossa escolha, uma vez que já tenhamos o arquivo .ttf desta em mãos. Para isso utilizamos a função:"
   ]
  },
  {
   "cell_type": "code",
   "execution_count": null,
   "metadata": {},
   "outputs": [],
   "source": [
    "pygame.font.Font(“nome_do_arquivo”, size)"
   ]
  },
  {
   "cell_type": "markdown",
   "metadata": {},
   "source": [
    "Tal função é responsável por criar um objeto do tipo fonte a partir de um arquivo, este que deve estar no mesmo diretório do código fonte, caso contrário, seu diretório de origem deve ser passado para a função concatenado com seu nome. Além disso passamos o tamanho que desejamos para nosso texto.\n",
    "\n",
    "Uma vez criado este objeto, podemos manipulá-lo de diversas formas diferentes, a nosso critério. Algumas funcionalidades que a biblioteca já nos fornece são:\n"
   ]
  },
  {
   "cell_type": "code",
   "execution_count": null,
   "metadata": {},
   "outputs": [],
   "source": [
    "objeto.set_bold(bool) #negrito\n",
    "\n",
    "objeto.set_italic(bool) #itálico\n",
    "\n",
    "objeto.set_underline(bool) #underline"
   ]
  },
  {
   "cell_type": "markdown",
   "metadata": {},
   "source": [
    "Para ambas as funções, é passado um booleano e, caso este seja True, a operação é feita sobre nosso objeto.\n",
    "\n",
    "Por fim, chegamos na parte de renderização de nossos textos. Para isso, contamos com a função:\n"
   ]
  },
  {
   "cell_type": "code",
   "execution_count": null,
   "metadata": {},
   "outputs": [],
   "source": [
    "superf = objeto.render(text, antialias, color)"
   ]
  },
  {
   "cell_type": "markdown",
   "metadata": {},
   "source": [
    "Tal função cria uma superfície e desenha nosso texto previamente configurado nela. Passamos para essa função, nosso texto, um booleano responsável por aplicar ou não o antialias (anti serrilhado) , e a cor que desejamos aplicar ao nosso texto (utilizando código RGB).\n",
    "\n",
    "Agora precisamos desenhar essa superficie sobre nossa janela. É importante mencionar que ao fazer `objeto.render(...)` além da superficie, criamos também um retângulo que representa a área ocupada pelo texto. Para imprimir o texto, usaremos a função `.blit()`, colocando antes do ponto a janela criada.\n",
    "\n",
    "Para conseguir o retângulo que envolve o texto, basta escrever `superf.get_rect()`. Além disso, podemos escolher onde o texto será colocado na tela movendo a posição deste retângulo. Para acessar o centro do retângulo, escrevemos:"
   ]
  },
  {
   "cell_type": "code",
   "execution_count": null,
   "metadata": {},
   "outputs": [],
   "source": [
    "superfRect = superf.get_rect()\n",
    "superfRect.center = ((800), (450))\n",
    "\n",
    "win.blit(superf, superfRect) #lembrando sempre de chamar pygame.display.update(), caso contrario, a tela não será atualizada"
   ]
  },
  {
   "cell_type": "markdown",
   "metadata": {},
   "source": [
    "#### Exemplo\n",
    "\n",
    "Um \"Hello world\" diferenciado:"
   ]
  },
  {
   "cell_type": "code",
   "execution_count": null,
   "metadata": {},
   "outputs": [],
   "source": [
    "pygame.font.init()\n",
    "\n",
    "minha_fonte = pygame.font.Font('minha_fonte',50) #cria um objeto \"fonte\" com uma determinada fonte .ttf e um determinado tamanho\n",
    "\n",
    "superf = minha_fonte.render(\"Hello World\", True, (255,255,255)) #renderiza um texto com antialias na cor branca\n",
    "\n",
    "superfRect = superf.get_rect()\n",
    "superfRect.center = ((800), (450))\n",
    "\n",
    "win.blit(superf, superfRect)"
   ]
  },
  {
   "cell_type": "markdown",
   "metadata": {},
   "source": [
    "<a id='section3'></a>\n",
    "\n",
    "## 3. Conteúdo extra\n",
    "\n",
    "A biblioteca Pygame tem muitas outras funções não abordadas aqui. A documentação completa pode ser encontrada <a href=\"https://www.pygame.org/docs/\">clicando aqui</a>."
   ]
  }
 ],
 "metadata": {
  "kernelspec": {
   "display_name": "Python 3",
   "language": "python",
   "name": "python3"
  },
  "language_info": {
   "codemirror_mode": {
    "name": "ipython",
    "version": 3
   },
   "file_extension": ".py",
   "mimetype": "text/x-python",
   "name": "python",
   "nbconvert_exporter": "python",
   "pygments_lexer": "ipython3",
   "version": "3.5.3"
  }
 },
 "nbformat": 4,
 "nbformat_minor": 2
}
