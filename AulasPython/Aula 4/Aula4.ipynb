{
 "cells": [
  {
   "cell_type": "markdown",
   "metadata": {},
   "source": [
    "# Listas e loops\n"
   ]
  },
  {
   "cell_type": "markdown",
   "metadata": {},
   "source": [
    "Conteúdo da Aula de hoje:\n",
    "\n",
    "\n",
    "1. <a href='#section1'>Objetivos</a>\n",
    "\n",
    "2. <a href='#section2'>Motivação</a>\n",
    "3. <a href='#section3'>Listas</a> <br>\n",
    "    3.1 <a href='#section3.1'>Operação in</a> <br>\n",
    "    3.2 <a href='#section3.2'>Sublistas ou fatias</a> <br>\n",
    "    3.3 <a href='#section3.3'>Tamanho da lista</a> <br>\n",
    "    3.4 <a href='#section3.4'>Contagem de itens</a> <br>\n",
    "    3.5 <a href='#section3.5'>Maior e menor</a> <br>\n",
    "    3.6 <a href='#section3.6'>Adicionar e remover itens</a> <br>\n",
    "    3.7 <a href='#section3.7'>Copiando itens de listas</a> <br>\n",
    "    3.8 <a href='#section3.8'>Ordenando listas</a> <br>\n",
    "4. <a href='#section4'>Loops e laços</a> <br>\n",
    "    4.1 <a href='#section4.1'>Condição de parada e contadores</a> <br>\n",
    "    4.2 <a href='#section4.2'>Loop while</a> <br>\n",
    "    4.3 <a href='#section4.3'>Loop for</a> <br>\n",
    "    4.4 <a href='#section4.4'>Desvios de fluxo</a> <br>\n",
    "5. <a href='#horadomicrobit'>Hora do micro:bit</a>\n",
    "6. <a href='#respostas'>Respostas dos exercícios</a>"
   ]
  },
  {
   "cell_type": "markdown",
   "metadata": {},
   "source": [
    "<a id='section1'></a>\n",
    "## 1. Objetivos\n",
    "\n",
    "-  Entender o que é uma lista em Python e como elas funcionam\n",
    "-  Compreender os tipos de comandos de repetição\n",
    "-  Aprender a implementar tais algoritmos em Python"
   ]
  },
  {
   "cell_type": "markdown",
   "metadata": {},
   "source": [
    "<a id='section2'></a>\n",
    "## 2. Motivação\n",
    "\n",
    "-  Realizar rotinas repetitivas\n",
    "-  Automatizar processos\n",
    "-  Fazer decisões e realizar tarefas extensas em tempo de execução\n",
    "\n",
    "Uma lista, como o nome já diz, permite listar valores sob uma mesma variável e manipular esses dados de uma maneira mais simples e direta. A lista pode ter itens adicionados, retirados, buscados e processados de diversas formas, cabendo ao programador decidir o que fazer e qual finalidade utilizar as listas.\n",
    "\n",
    "A utilidade dos chamados laços de repetição é permitir que instruções sejam executadas pelo computador em uma grande escala e quantidade. É uma tarefa bem adequada aos computadores, devido à sua grande capacidade de processar dados em um curto período de tempo. A execução de um conjunto de comandos é chamada de **iteração**. Veremos também que implementar laços não é uma tarefa complicada, e usualmente ele será utilizado para percorrer, tratar, operar algum tipo de lista (mas não obrigatoriamente apenas isso).\n",
    "\n",
    "Não se assuste com a quantidade de funções e formas de operar as listas e os laços, elas vão sendo incorporadas no seu conjunto de \"ferramentas\" com o tempo. Leia bastante os materiais, busque por informações fora desse notebook, troque ideias com seus colegas, fale com os professores caso tenha muita dificuldade e o mais importante: pratique sempre. Apenas programando e aplicando os conceitos vistos nas aulas que o conteúdo vai ser fixado, mas não tenha medo de conferir o material quando sentir necessidade, principalmente nos primeiros exercícios. É altamente encorajado que você altere os materiais e personalize ao seu gosto e comunique dificuldades e recomendações."
   ]
  },
  {
   "cell_type": "markdown",
   "metadata": {},
   "source": [
    "<a id='section3'></a>\n",
    "# 3. Listas\n",
    "\n",
    "Uma lista é uma conjunto de valores. Esses valores são chamados de elementos ou itens. As listas podem conter itens de qualquer tipo, inclusive conter outras listas. Cada item de uma lista é indexado, ou seja, têm um número atrelado à ele que indica a posição do valor na lista. Essa contagem começa com o primeiro item da lista tendo o índice `0`. Uma lista que tem uma ordem de seus itens é chamada de sequência.\n"
   ]
  },
  {
   "cell_type": "markdown",
   "metadata": {},
   "source": [
    "Um exemplo onde é melhor se utilizar uma lista do que várias variáveis: um carrinho de compras.\n",
    "Digamos que você tenha um programa onde deseja ter alguma forma de guardar quais são os itens que estão no seu carrinho.\n",
    "Utilizando o nosso conhecimento atual poderíamos declarar algumas variáveis:"
   ]
  },
  {
   "cell_type": "code",
   "execution_count": null,
   "metadata": {},
   "outputs": [],
   "source": [
    "item1 = \"Tomates\"\n",
    "item2 = \"Batatas\"\n",
    "item3 = \"Ovos\"\n",
    "item4 = \"Pães\""
   ]
  },
  {
   "cell_type": "markdown",
   "metadata": {},
   "source": [
    "Vejamos como seria a impressão na tela dos itens do carrinho sem a utilização das listas de uma forma não tão eficiente:"
   ]
  },
  {
   "cell_type": "code",
   "execution_count": null,
   "metadata": {},
   "outputs": [],
   "source": [
    "print(item1)\n",
    "print(item2)\n",
    "print(item3)\n",
    "print(item4)"
   ]
  },
  {
   "cell_type": "markdown",
   "metadata": {},
   "source": [
    "Mas, como podemos ver, teríamos que digitar e lembrar dessas variáveis para utilizar durante o programa, nos limitando apenas a quatro variáveis, que não seria muito eficiente e dificultaria automatizar nossas tarefas. Então ao invés disso vamos implementar uma lista com esses itens:"
   ]
  },
  {
   "cell_type": "code",
   "execution_count": null,
   "metadata": {},
   "outputs": [],
   "source": [
    "carrinho = [\"Tomates\", \"Batatas\", \"Ovos\", \"Pães\"]"
   ]
  },
  {
   "cell_type": "markdown",
   "metadata": {},
   "source": [
    "Muito mais simples e direto. Agora para acessar tais itens da lista podemos apenas referenciar seu índice (posição na lista). Então caso eu queira imprimir o primeiro item da lista basta:"
   ]
  },
  {
   "cell_type": "code",
   "execution_count": null,
   "metadata": {},
   "outputs": [],
   "source": [
    "print(carrinho[0])"
   ]
  },
  {
   "cell_type": "markdown",
   "metadata": {},
   "source": [
    "Fica claro que quanto maior a quantidade de itens, maior deve ser a propensão do programador de utilizar listas ao invés de variáveis \"soltas\". A utilização de listas nos dá muita liberdade no quesito de escalar a quantidade de dados e trabalhar de forma generalizada, permitindo que um código tenha quantidades variáveis de itens, valores e dados. Aqui vai um conjunto grande de operações que podemos fazer com listas, mas não tenha a preocupação de aprender tudo de uma vez. Tente entender como funciona e sinta-se livre para fazer seus próprios testes:"
   ]
  },
  {
   "cell_type": "markdown",
   "metadata": {},
   "source": [
    "<a id='section3.1'></a>\n",
    "## 3.1 Operação `in`\n",
    "\n",
    "Podemos checar se algum item está contido na lista:"
   ]
  },
  {
   "cell_type": "code",
   "execution_count": null,
   "metadata": {},
   "outputs": [],
   "source": [
    "\"Batatas\" in carrinho"
   ]
  },
  {
   "cell_type": "code",
   "execution_count": null,
   "metadata": {},
   "outputs": [],
   "source": [
    "\"Beringela\" in carrinho"
   ]
  },
  {
   "cell_type": "markdown",
   "metadata": {},
   "source": [
    "**Verifique se algum outro item está no carrinho**"
   ]
  },
  {
   "cell_type": "code",
   "execution_count": null,
   "metadata": {},
   "outputs": [],
   "source": []
  },
  {
   "cell_type": "markdown",
   "metadata": {},
   "source": [
    "<a id='section3.2'></a>\n",
    "## 3.2 Sublistas ou fatias\n",
    "A linguagem Python permite pegar uma lista e retornar apenas um trecho dela. Basta utilizar o `:` e dizer qual o início e fim do \"corte\" para pegar o trecho (o início é incluso e o fim não, como um intervalo fechado à esquerda e aberto à direita). Opcionalmente pode ser passado um terceiro parâmetro, que permite pular entre alguns valores.\n",
    "Podemos fatiar um pedaço da lista assim:"
   ]
  },
  {
   "cell_type": "code",
   "execution_count": null,
   "metadata": {},
   "outputs": [],
   "source": [
    "subCarrinho = carrinho[1:3] # Itens de 1 a 3 do carrinho, mas sem incluir o 3\n",
    "subCarrinho"
   ]
  },
  {
   "cell_type": "code",
   "execution_count": null,
   "metadata": {},
   "outputs": [],
   "source": [
    "subCarrinho2 = carrinho[0:4:2]  # Itens de 0 a 4 no carrinho, mas pulando de 2 em 2 e sem incluir o 4\n",
    "subCarrinho2"
   ]
  },
  {
   "cell_type": "markdown",
   "metadata": {},
   "source": [
    "<a id='section3.3'></a>\n",
    "## 3.3 Tamanho da lista\n",
    "Podemos checar o tamanho de uma lista:"
   ]
  },
  {
   "cell_type": "code",
   "execution_count": null,
   "metadata": {},
   "outputs": [],
   "source": [
    "print(\"Tamanho do carrinho = \" , len(carrinho) )"
   ]
  },
  {
   "cell_type": "markdown",
   "metadata": {},
   "source": [
    "<a id='section3.4'></a>\n",
    "## 3.4 Contagem de itens\n",
    "\n",
    "Podemos ver quantas vezes um  determinado item aparece em uma lista:"
   ]
  },
  {
   "cell_type": "code",
   "execution_count": null,
   "metadata": {},
   "outputs": [],
   "source": [
    "carrinho.count(\"Batatas\")"
   ]
  },
  {
   "cell_type": "markdown",
   "metadata": {},
   "source": [
    "<a id='section3.5'></a>\n",
    "## 3.5 Maior e menor\n",
    "\n",
    "Também podemos ver o maior e menor valores de uma lista:"
   ]
  },
  {
   "cell_type": "code",
   "execution_count": null,
   "metadata": {},
   "outputs": [],
   "source": [
    "numeros = [ 49 , 12 , 37 , 28 , 78 , 21 , 81 , 68 , 31 , 79 , 54 ]\n",
    "\n",
    "print(\"Maior numero da lista: \", max(numeros) )\n",
    "\n",
    "print(\"Menor numero da lista: \", min(numeros) )\n"
   ]
  },
  {
   "cell_type": "markdown",
   "metadata": {},
   "source": [
    "**O que acontece caso os valores dados não sejam números?**"
   ]
  },
  {
   "cell_type": "markdown",
   "metadata": {},
   "source": [
    "<a id='section3.6'></a>\n",
    "## 3.6 Adicionar e remover itens\n",
    "\n",
    "As listas também possuem funcionalidades prontas que podemos manipular por meio de funções padrões do Python. Vamos ver algumas delas em seguida:"
   ]
  },
  {
   "cell_type": "markdown",
   "metadata": {},
   "source": [
    "### 3.6.1 Adicionando com `append()`\n",
    "A função `append()` permite adicionar um item no final de uma lista. Lembrando que um dos atributos mais interessantes das listas é ter um tamanho variável e poder adicionar ou remover itens."
   ]
  },
  {
   "cell_type": "code",
   "execution_count": null,
   "metadata": {},
   "outputs": [],
   "source": [
    "carrinho.append(\"Suco\")\n",
    "carrinho.append(\"Açúcar\")\n",
    "\n",
    "print(\"Carrinho: \", carrinho)"
   ]
  },
  {
   "cell_type": "markdown",
   "metadata": {},
   "source": [
    "### 3.6.2 Removendo com `pop()` e `remove()`\n",
    "As funções `pop()` e `remove()` servem para retirar itens de uma lista. A `pop()` pode receber uma posição e retira o item naquela posição:"
   ]
  },
  {
   "cell_type": "code",
   "execution_count": null,
   "metadata": {},
   "outputs": [],
   "source": [
    "print(\"Estou removendo o item: \", carrinho.pop(3) ) # Removendo item na posição 3\n",
    "print(\"Carrinho atualizado:\" , carrinho )"
   ]
  },
  {
   "cell_type": "markdown",
   "metadata": {},
   "source": [
    "Se nenhuma posição for dada para a função `pop()` ela remove o último item da lista:"
   ]
  },
  {
   "cell_type": "code",
   "execution_count": null,
   "metadata": {},
   "outputs": [],
   "source": [
    "print(\"Estou removendo o item: \", carrinho.pop() )\n",
    "print(\"Carrinho atualizado:\" , carrinho )"
   ]
  },
  {
   "cell_type": "markdown",
   "metadata": {},
   "source": [
    "A função `remove()` busta pelo item dado e o remove da lista caso ele esteja presente:"
   ]
  },
  {
   "cell_type": "code",
   "execution_count": null,
   "metadata": {},
   "outputs": [],
   "source": [
    "if \"Batatas\" in carrinho:\n",
    "    print(\"Estou removendo as batatas: \", carrinho.remove(\"Batatas\") )\n",
    "print(\"Carrinho atualizado:\" , carrinho )"
   ]
  },
  {
   "cell_type": "markdown",
   "metadata": {},
   "source": [
    "**Tente remover um item que não está na lista, veja o que acontece**"
   ]
  },
  {
   "cell_type": "markdown",
   "metadata": {},
   "source": [
    "<a id='section3.7'></a>\n",
    "## 3.7 Copiando itens de listas\n",
    "\n",
    "Para copiar uma lista em outra basta utilizar a função `copy()` e atribuir à uma variável:"
   ]
  },
  {
   "cell_type": "code",
   "execution_count": null,
   "metadata": {},
   "outputs": [],
   "source": [
    "numerosCopiados = numeros.copy()"
   ]
  },
  {
   "cell_type": "markdown",
   "metadata": {},
   "source": [
    "<a id='section3.8'></a>\n",
    "## 3.8 Ordenando listas\n",
    "\n",
    "Para se ordenar uma lista basta utilizar a função `sort()`:"
   ]
  },
  {
   "cell_type": "markdown",
   "metadata": {},
   "source": [
    "Uma lista de inteiros ordenada de forma crescente:"
   ]
  },
  {
   "cell_type": "code",
   "execution_count": null,
   "metadata": {},
   "outputs": [],
   "source": [
    "print(\"Lista de numeros desordenada:\" , numeros)\n",
    "\n",
    "numerosCopiados.sort() # Ordenando de forma crescente. Busque como ordenar de forma decrescente.\n",
    "\n",
    "print(\"Lista de numeros    ordenada:\" , numerosCopiados )"
   ]
  },
  {
   "cell_type": "markdown",
   "metadata": {},
   "source": [
    "**O que acontece com a ordem original após a ordenação?**"
   ]
  },
  {
   "cell_type": "markdown",
   "metadata": {},
   "source": [
    "Adicione alguns itens na lista `carrinho` e a ordene. O que acontece? Qual o tipo de ordenação?"
   ]
  },
  {
   "cell_type": "code",
   "execution_count": null,
   "metadata": {},
   "outputs": [],
   "source": []
  },
  {
   "cell_type": "markdown",
   "metadata": {},
   "source": [
    "<a id='section4'></a>\n",
    "# 4. Loops e laços\n",
    "Um loop (ou laço, em português) nada mais é do que uma estrutura de código que permite repetir comandos por uma dada quantidade de vezes ou até que uma condição seja satisfeita. Eles são extremamente necessários pois permitem o reuso e evitam a reescrita de comandos. Vamos abordar dois tipos de loop nessa aula, o `while` e o `for`, que são os principais laços do Python. Um laço consiste basicamente de um conjunto de comandos que está aninhado nele e uma condição de parada, que diz até quando esses comandos devem ser repetidos.  "
   ]
  },
  {
   "cell_type": "markdown",
   "metadata": {},
   "source": [
    "<a id='section4.1'></a>\n",
    "## 4.1 Condição de parada e contadores\n",
    "\n",
    "Os conceitos da aula passada serão utilizados em grande maioria dos algoritmos que iremos estudar hoje, pois, os loops precisam saber até onde ou quando precisam ser executados.\n",
    "    \n",
    "Caso você peça para alguém fazer uma tarefa, provavelmente você também irá indicar um momento onde ela terá de parar de realizar tal tarefa. Essa condição também existe para os computadores e iremos chamá-la formalmente de **condição de parada**."
   ]
  },
  {
   "cell_type": "markdown",
   "metadata": {},
   "source": [
    "Um conceito que também utilizamos muito comumente na programação é a de **contadores**. Ela denomina algumas variáveis numéricas que não necessariamente têm alguma relação direta com os dados que estamos lidando, e sim apenas alguma forma de contar algum processo repetitivo, posição atual de algum programa, testes de depuração ou até mesmo existem apenas para que um laço aconteça determinada quantidade de vezes. Essas variáveis não têm um significado especial para a máquina, são variáveis normais cujo programador dá esse sentido diferente."
   ]
  },
  {
   "cell_type": "markdown",
   "metadata": {},
   "source": [
    "<a id='section4.2'></a>\n",
    "## 4.2 Loop `while`\n",
    "\n",
    "O loop `while` é uma estrutura que faz o seguinte: ela avalia uma condição. Se a condição for verdadeira ela executa um conjunto de comandos e caso contrário ela pula esse conjunto de comandos. Assim que os comandos são executados, a condição é avaliada novamente e todo o processo se repete."
   ]
  },
  {
   "cell_type": "code",
   "execution_count": null,
   "metadata": {
    "scrolled": true
   },
   "outputs": [],
   "source": [
    "x = 0           # Inicializando x\n",
    "\n",
    "print(\"Entrando no laço\")\n",
    "\n",
    "while x < 5 :   # Enquanto x for menor do que 5 execute:\n",
    "    print(x)    # Imprima o valor de x\n",
    "    x = x + 1   # Adicione 1 ao valor de x. Também pode ser feito como x += 1\n",
    "    \n",
    "print(\"Saímos do laço\")"
   ]
  },
  {
   "cell_type": "markdown",
   "metadata": {},
   "source": [
    "Um bom exercício é olhar o código e tentar prever o passo a passo das linhas e comandos que o computador vai executar. Também podemos combinar condições na chamada do `while`, olhe o código abaixo e pense quantos números serão impressos na tela: "
   ]
  },
  {
   "cell_type": "code",
   "execution_count": null,
   "metadata": {},
   "outputs": [],
   "source": [
    "x = 0\n",
    "\n",
    "while x < 100 and x != 20 :\n",
    "    print(\"X está valendo \" , x )\n",
    "    x += 1\n",
    "\n",
    "print(\"Saímos do laço\")\n"
   ]
  },
  {
   "cell_type": "markdown",
   "metadata": {},
   "source": [
    "Vejamos mais alguns exemplos. O que acontece se a condição for falsa desde o princípio?"
   ]
  },
  {
   "cell_type": "code",
   "execution_count": null,
   "metadata": {},
   "outputs": [],
   "source": [
    "numero = 42\n",
    "\n",
    "while numero < 5 :\n",
    "    print(\"O numero é menor do que 5\")\n",
    "    numero += 1\n"
   ]
  },
  {
   "cell_type": "markdown",
   "metadata": {},
   "source": [
    "O código dentro desse laço foi executado? Porquê?"
   ]
  },
  {
   "cell_type": "markdown",
   "metadata": {},
   "source": [
    "E o que acontece quando esquecemos de colocar uma condição de parada?"
   ]
  },
  {
   "cell_type": "code",
   "execution_count": null,
   "metadata": {},
   "outputs": [],
   "source": [
    "nome = \"Novelli\"\n",
    "\n",
    "while nome == \"Novelli\":\n",
    "    print(\"Achei esse nome bonito\")\n",
    "    \n",
    "print(\"Saindo do laço\")"
   ]
  },
  {
   "cell_type": "markdown",
   "metadata": {},
   "source": [
    "Como visto, o programa não vai parar de imprimir \"Achei esse nome bonito\" nunca, pois a condição do laço será sempre verdadeira. Chamamos situações como essas de **loops infinitos**. O jupyter indica que uma célula está sendo executada à direita, com um símbolo `[*]`, podemos utilizar tal símbolo para detectar loops infinitos, mas em outros ambientes fica um pouco mais difícil de descobrir quando caímos em tais loops. O que poderia ser alterado na célula para que não ficássemos presos?"
   ]
  },
  {
   "cell_type": "markdown",
   "metadata": {},
   "source": [
    "### Exercício 1\n",
    "\n",
    "Com o conhecimento adquirido já podemos fazer um laço de repetição onde apenas números pares sejam impressos. Use a célula abaixo para criar um código que imprima todos os números pares entre 0 e 100:"
   ]
  },
  {
   "cell_type": "code",
   "execution_count": null,
   "metadata": {},
   "outputs": [],
   "source": []
  },
  {
   "cell_type": "markdown",
   "metadata": {},
   "source": [
    "<a id='section4.3'></a>\n",
    "## 4.3 Loop `for`\n",
    "\n",
    "O loop `for` tem a funcionalidade geral muito parecida com a de um loop `while`, porém, ele permite simplificar alguns laços específicos e é mais comumente utilizado. O `for` já pede pela criação um contador e definição da condição de parada na sua chamada. Veremos algumas formas de como chamar esse laço:"
   ]
  },
  {
   "cell_type": "markdown",
   "metadata": {},
   "source": [
    "Podemos chamar o `for` e dar duas coisas: um contador (ou iterador) e um domínio (ou alcance)."
   ]
  },
  {
   "cell_type": "code",
   "execution_count": null,
   "metadata": {},
   "outputs": [],
   "source": [
    "for x in range(0,5):   # Para \"x\" no intervalo de 0 à 5 (não inclusivo, intervalo aberto à direita)\n",
    "    print(x)           # Imprima \"x\""
   ]
  },
  {
   "cell_type": "markdown",
   "metadata": {},
   "source": [
    "A função `range()` pode ter uma quantidade variável de parâmetros. Você pode dar apenas o inteiro que você quer que o `for` pare de percorrer:"
   ]
  },
  {
   "cell_type": "code",
   "execution_count": null,
   "metadata": {},
   "outputs": [],
   "source": [
    "for contador in range(12): # Note que se o início não for dado, o contador começa pelo 0\n",
    "    print(contador)"
   ]
  },
  {
   "cell_type": "markdown",
   "metadata": {},
   "source": [
    "A função pode receber o início e fim, como no primeiro exemplo de laço `for`, ou também receber 3 parâmetros: o início do laço, o fim e o quanto ela deve acrescentar no contador por cada iteração:"
   ]
  },
  {
   "cell_type": "code",
   "execution_count": null,
   "metadata": {},
   "outputs": [],
   "source": [
    "for numero in range( 2 , 100, 5 ):\n",
    "    print(numero)"
   ]
  },
  {
   "cell_type": "markdown",
   "metadata": {},
   "source": [
    "Então já vimos algumas vantagens para essa implementação do `for` comparado ao `while`. Não precisamos criar o contador antes do laço e a função `range()` já toma conta da iteração sozinha. Mais uma coisa legal que podemos fazer como o `for` é percorrer listas! Olha só:"
   ]
  },
  {
   "cell_type": "code",
   "execution_count": null,
   "metadata": {},
   "outputs": [],
   "source": [
    "baralho = [\"Ás\" , \"2\" , \"3\" , \"4\" , \"5\" , \"6\" , \"7\" , \"8\" , \"9\" , \"J\" , \"Q\" , \"K\"  ]\n",
    "\n",
    "for carta in baralho: # Para cada carta na lista baralho\n",
    "    print( carta )    # Imprima a carta\n",
    "    "
   ]
  },
  {
   "cell_type": "markdown",
   "metadata": {},
   "source": [
    "De forma bem simples e direta pudemos pegar um contador e fazer ele passar por todos os itens de uma lista individualmente a cada iteração. Fantástico, não? E esse arranjo serve para qualquer lista."
   ]
  },
  {
   "cell_type": "markdown",
   "metadata": {},
   "source": [
    "### Exercício 2\n",
    "\n",
    "Uma outra tarefa que já podemos fazer é imprimir os números em ordem decrescente. Faça um código na célula abaixo que imprima todos os números inteiros de 25 até -10:"
   ]
  },
  {
   "cell_type": "code",
   "execution_count": null,
   "metadata": {},
   "outputs": [],
   "source": []
  },
  {
   "cell_type": "markdown",
   "metadata": {},
   "source": [
    "<a id='section4.4'></a>\n",
    "## 4.4 Desvios de fluxo\n",
    "\n",
    "Existem também algumas formas de \"desviar\" o fluxo de um laço. Dois deles são o `break` e o `continue`. Por exemplo, digamos que você tem um laço e em algumas condições você deseja voltar ao começo do laço sem terminar de executar todo o bloco de código. Usaremos para isso o `continue`:"
   ]
  },
  {
   "cell_type": "code",
   "execution_count": null,
   "metadata": {},
   "outputs": [],
   "source": [
    "x = 0\n",
    "\n",
    "while x < 12 :\n",
    "\n",
    "    x += 1\n",
    "    if ( x % 2 == 0 ):  #Fazendo um teste para saber a paridade de \"x\"\n",
    "        continue        #Se \"x\" for par, volte para o início do laço\n",
    "    \n",
    "    print(x)"
   ]
  },
  {
   "cell_type": "markdown",
   "metadata": {},
   "source": [
    "E no caso do `break`, podemos interromper completamente um laço, sair dele e continuar abaixo do bloco de código:"
   ]
  },
  {
   "cell_type": "code",
   "execution_count": null,
   "metadata": {
    "scrolled": true
   },
   "outputs": [],
   "source": [
    "x = 0\n",
    "\n",
    "while x < 99 :    #Laço de \"x\" enquanto \"x\" for menor que 99\n",
    "\n",
    "    x += 1\n",
    "    if x == 8 :   #Se \"x\" for igual a 8\n",
    "        break     #Saia do laço\n",
    "        \n",
    "    print(x)\n",
    "\n",
    "print(\"Saímos do laço\")"
   ]
  },
  {
   "cell_type": "markdown",
   "metadata": {},
   "source": [
    "### Exercício 3\n",
    "\n",
    "Faça um programa que leia diversos números do teclado e informe a sua raiz quadrada. Quando o número dado for negativo, pare. Veja o código abaixo de como retornar uma raiz quadrada."
   ]
  },
  {
   "cell_type": "code",
   "execution_count": null,
   "metadata": {},
   "outputs": [],
   "source": [
    "import math  #importa uma biblioteca de matemática\n",
    "\n",
    "math.sqrt(2) #retorna a raiz quadrada de 2"
   ]
  },
  {
   "cell_type": "markdown",
   "metadata": {},
   "source": [
    "### Exercício 4\n",
    "Faça um programa que leia 10 números do teclado e mostre na tela a soma deles.\n"
   ]
  },
  {
   "cell_type": "code",
   "execution_count": null,
   "metadata": {},
   "outputs": [],
   "source": []
  },
  {
   "cell_type": "markdown",
   "metadata": {},
   "source": [
    "### Exercício 5\n",
    "\n",
    "Lido um número `N` do teclado, leia os próximos `N` números e informe qual deles é o maior."
   ]
  },
  {
   "cell_type": "code",
   "execution_count": null,
   "metadata": {},
   "outputs": [],
   "source": []
  },
  {
   "cell_type": "markdown",
   "metadata": {},
   "source": [
    "<a id='horadomicrobit'></a>\n",
    "## Hora do micro:bit\n",
    "\n"
   ]
  },
  {
   "cell_type": "markdown",
   "metadata": {},
   "source": [
    "### Exercício 6\n",
    "Também podemos utilizar os conceitos de laço para iterar entre leds acesos e apagados no micro:bit.\n",
    "Faça um código que faça os leds do micro:bit acenderem linha por linha (1 linha acesa de cada vez). \n",
    "O código abaixo é um exemplo de código responsável por acender as colunas do micro:bit uma de cada vez, use-o como base."
   ]
  },
  {
   "cell_type": "code",
   "execution_count": null,
   "metadata": {},
   "outputs": [],
   "source": [
    "# Código para usar no microbit\n",
    "from microbit import *\n",
    "x = 0\n",
    "while True:\n",
    "  if x>4:\n",
    "    x=0\n",
    "  else:\n",
    "    display.set_pixel(x, 0, 9)\n",
    "    display.set_pixel(x, 1, 9)\n",
    "    display.set_pixel(x, 2, 9)\n",
    "    display.set_pixel(x, 3, 9)\n",
    "    display.set_pixel(x, 4, 9)\n",
    "    x = x + 1\n",
    "    sleep(500)\n",
    "    display.clear()"
   ]
  },
  {
   "cell_type": "markdown",
   "metadata": {},
   "source": [
    "Os LEDs do micro:bit também podem ser encarados como uma matriz. O conteito de matrizes vai ser abordado mais adiante no curso, mas fica o questionamento: qual o significado de ter um laço dentro de um laço assim?"
   ]
  },
  {
   "cell_type": "code",
   "execution_count": null,
   "metadata": {},
   "outputs": [],
   "source": [
    "\n",
    "for x in range(5):\n",
    "    for y in range(5):\n",
    "        print(x,\" \", y)"
   ]
  },
  {
   "cell_type": "markdown",
   "metadata": {},
   "source": [
    "Como podemos relacionar isso à uma matriz? Quais são outras possíveis utilizações de laços aninhados?"
   ]
  },
  {
   "cell_type": "markdown",
   "metadata": {},
   "source": [
    "### Exercicío 7\n",
    "\n",
    "Faça um programa onde o micro:bit mostra um rosto feliz enquanto o botão A é pressionado e um rosto triste quando este mesmo é solto."
   ]
  },
  {
   "cell_type": "code",
   "execution_count": null,
   "metadata": {
    "scrolled": true
   },
   "outputs": [],
   "source": [
    "# Modelo para acender uma imagem no micro:bit\n",
    "# Rosto feliz:\n",
    "display.show(Image.HAPPY);\n",
    "# Rosto triste:\n",
    "display.show(Image.SAD);"
   ]
  },
  {
   "cell_type": "markdown",
   "metadata": {},
   "source": [
    "### Exercício 8\n",
    "\n",
    "Faça um programa com uma lista de imagens e as mostre no microbit em sequencia.<br><a href = \"https://microbit-micropython.readthedocs.io/en/latest/tutorials/images.html\"> Documentação sobre imagens </a>"
   ]
  },
  {
   "cell_type": "markdown",
   "metadata": {},
   "source": [
    "<a id='respostas'></a>\n",
    "# Respostas dos exercícios"
   ]
  },
  {
   "cell_type": "markdown",
   "metadata": {},
   "source": [
    "As respostas descritas aqui não são soluções únicas para os problemas indicados, e sim apenas uma das infinitas formas de resolução. Confie nos seus resultados e discuta com seus colegas e professores."
   ]
  },
  {
   "cell_type": "markdown",
   "metadata": {},
   "source": [
    "## Exercício 1"
   ]
  },
  {
   "cell_type": "code",
   "execution_count": null,
   "metadata": {},
   "outputs": [],
   "source": [
    "#Com o conhecimento adquirido já podemos fazer um laço de repetição onde apenas números pares sejam impressos. Use a célula abaixo para criar um código que imprima todos os números pares entre 0 e 100:\n",
    "\n",
    "for x in range(0,101,2):\n",
    "    print(x)"
   ]
  },
  {
   "cell_type": "markdown",
   "metadata": {},
   "source": [
    "## Exercício 2"
   ]
  },
  {
   "cell_type": "code",
   "execution_count": null,
   "metadata": {},
   "outputs": [],
   "source": [
    "#Uma outra tarefa que já podemos fazer é imprimir os números em ordem decrescente. Faça um código na célula abaixo que imprima todos os números inteiros de 25 até -10:\n",
    "\n",
    "for x in range( 25 , -11 , -1 ):\n",
    "    print(x)"
   ]
  },
  {
   "cell_type": "markdown",
   "metadata": {},
   "source": [
    "## Exercício 3"
   ]
  },
  {
   "cell_type": "code",
   "execution_count": null,
   "metadata": {},
   "outputs": [],
   "source": [
    "import math\n",
    "\n",
    "while True :\n",
    "    x = int(input())\n",
    "    if x < 0 :\n",
    "        break\n",
    "    \n",
    "    print(\"A raiz é:\", math.sqrt(x))"
   ]
  },
  {
   "cell_type": "markdown",
   "metadata": {},
   "source": [
    "## Exercício 4"
   ]
  },
  {
   "cell_type": "code",
   "execution_count": null,
   "metadata": {},
   "outputs": [],
   "source": [
    "soma = 0\n",
    "\n",
    "for x in range(10):\n",
    "    soma += int(input())\n",
    "    \n",
    "print(\"A soma resultou em:\", soma)"
   ]
  },
  {
   "cell_type": "markdown",
   "metadata": {},
   "source": [
    "## Exercício 5"
   ]
  },
  {
   "cell_type": "code",
   "execution_count": null,
   "metadata": {
    "scrolled": true
   },
   "outputs": [],
   "source": [
    "n = int(input())\n",
    "\n",
    "maior = 0\n",
    "\n",
    "for x in range (n):\n",
    "    numero = int(input())\n",
    "    \n",
    "    if numero > maior :\n",
    "        maior = numero\n",
    "    \n",
    "print(\"O maior número é:\" , maior)"
   ]
  },
  {
   "cell_type": "markdown",
   "metadata": {},
   "source": [
    "## Exercícios micro:bit"
   ]
  },
  {
   "cell_type": "markdown",
   "metadata": {},
   "source": [
    "## Exercício 6"
   ]
  },
  {
   "cell_type": "code",
   "execution_count": null,
   "metadata": {},
   "outputs": [],
   "source": [
    "#Código para usar no microbit\n",
    "from microbit import *\n",
    "y = 0\n",
    "while True:\n",
    "  if y>4:\n",
    "    y=0\n",
    "  else:\n",
    "    display.set_pixel(0, y, 9)\n",
    "    display.set_pixel(1, y, 9)\n",
    "    display.set_pixel(2, y, 9)\n",
    "    display.set_pixel(3, y, 9)\n",
    "    display.set_pixel(4, y, 9)\n",
    "    y = y + 1\n",
    "    sleep(500)\n",
    "    display.clear()"
   ]
  },
  {
   "cell_type": "markdown",
   "metadata": {},
   "source": [
    "## Exercício 7\n"
   ]
  },
  {
   "cell_type": "code",
   "execution_count": null,
   "metadata": {
    "scrolled": true
   },
   "outputs": [],
   "source": [
    "#Código para usar no micro:bit\n",
    "from microbit import *\n",
    "while True:\n",
    "  while button_a.is_pressed():\n",
    "    sleep(100)\n",
    "    display.show(Image.HAPPY)\n",
    "  display.show(Image.SAD)\n"
   ]
  },
  {
   "cell_type": "markdown",
   "metadata": {},
   "source": [
    "## Exercicío 8\n"
   ]
  },
  {
   "cell_type": "code",
   "execution_count": null,
   "metadata": {},
   "outputs": [],
   "source": [
    "#Código para ser usado no micro:bit\n",
    "#Código não testado\n",
    "\n",
    "from microbit import *\n",
    "\n",
    "album = [Image.HEART, Image.SMILE, Image.HAPPY, Image.SAD, Image.ANGRY]\n",
    "\n",
    "while True:\n",
    "\n",
    "    for foto in album:\n",
    "        display.show(foto)\n",
    "        sleep(1000)\n",
    "        display.clear()"
   ]
  }
 ],
 "metadata": {
  "kernelspec": {
   "display_name": "Python 3",
   "language": "python",
   "name": "python3"
  },
  "language_info": {
   "codemirror_mode": {
    "name": "ipython",
    "version": 3
   },
   "file_extension": ".py",
   "mimetype": "text/x-python",
   "name": "python",
   "nbconvert_exporter": "python",
   "pygments_lexer": "ipython3",
   "version": "3.6.7"
  }
 },
 "nbformat": 4,
 "nbformat_minor": 2
}
