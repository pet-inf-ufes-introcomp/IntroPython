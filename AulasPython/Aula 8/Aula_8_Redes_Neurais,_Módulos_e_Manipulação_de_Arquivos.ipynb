{
 "cells": [
  {
   "cell_type": "markdown",
   "metadata": {
    "colab_type": "text",
    "id": "StfomZEHgqQk"
   },
   "source": [
    "![picture](https://drive.google.com/uc?id=12FMecoQs234_ky9l0ONFAkVDFHImD9Ce)"
   ]
  },
  {
   "cell_type": "markdown",
   "metadata": {
    "colab_type": "text",
    "id": "D4WIClCSFy3-"
   },
   "source": [
    "Hoje veremos:\n",
    "\n",
    "1. <a href='#section1'> Inteligência Artificial </a>\n",
    "    * <a href='#section1.1'> O que é inteligência artificial? </a>\n",
    "    * <a href='#section1.2'> Redes Neurais </a>\n",
    "    * <a href='#section1.3'> Machine Learning </a>\n",
    "2. <a href='#section2'> Aprendendo na Prática </a>\n",
    "    * <a href='#section2.1'> Preparando os dados </a>\n",
    "    * <a href='#section2.2'> Treinando a rede </a>\n",
    "    * <a href='#section2.3'> Melhorando nosso modelo </a>\n",
    "    * <a href='#section2.4'> Colocando à prova </a>\n",
    "3.  <a href=\"#section3\"> Referências e mais conteúdo </a>"
   ]
  },
  {
   "cell_type": "markdown",
   "metadata": {
    "colab_type": "text",
    "id": "ajrCTcx8LzCo"
   },
   "source": [
    "# 1. Inteligência Artificial <a id='section1'> </a>\n",
    "\n",
    "![picture](https://miro.medium.com/max/4052/1*cpe4z05DgTJvm0SG0MsrjA.png)\n",
    "\n",
    "Um tema que surgiu antes dos computadores pessoais, como em obras de ficção científica do Isaac Asimov, é a discussão sobre a capacidade de se projetar um computador que consiga desenvolver uma forma de raciocínio próprio. Nós estamos constantemente lidando com sistemas que realizam milhares de operações e parecem ser inteligentes, mas como podemos definir \"inteligência artificial\"?"
   ]
  },
  {
   "cell_type": "markdown",
   "metadata": {
    "colab_type": "text",
    "id": "RqIRfB8PXW4-"
   },
   "source": [
    "## 1.1 O que é inteligência artificial? <a id='section1.1'></a>\n",
    "\n",
    "O conceito \"inteligência artificial\" pode ser definido como o processo que máquinas executam na tentativa de simular a inteligência humana, incluindo atividades como aprender, raciocinar e se corrigir.\n",
    "Essa definição é muito branda e permite encaixar milhares de aplicações como, por exemplo: \n",
    "\n",
    "Programas que dão diagnósticos médicos, fazem compra e vendas de ações na bolsa, controlam robôs, dão suporte ao consumidor via chats virtuais e que controlam carros são alguns exemplos de inteligência artificial que temos hoje. Notem que é algo bem próximo de nós e que convive conosco diariamente. Mas o que torna um script em Python comum em uma inteligência artificial? "
   ]
  },
  {
   "cell_type": "markdown",
   "metadata": {
    "colab_type": "text",
    "id": "G4LlY_YQl5MZ"
   },
   "source": [
    "## 1.2 Redes Neurais <a id='section1.2'> </a>\n",
    "\n",
    "Uma rede neural é uma estrutura de dados que pode ser explicada como uma matriz, na qual cada coordenada dessa matriz contém o que são chamados de \"nós\". A rede permite a passagem de dados de nó em nó, onde cada nó pode alterar esse valor e o passa para outro nó.\n",
    "O nome \"neural\" é derivado de \"neurônios\", por ser uma modelagem matemática que se assemelha às células no nosso cérebro.\n",
    "\n",
    "Sendo essa estrutura algo relativamente simples e descoberta há mais de 20 anos, porquê não foi utilizada desde então e está chamando toda essa atenção recentemente?\n",
    "A resposta é direta: hoje em dia temos uma capacidade de armazenamento e processamento de dados imensamente maior do que 20 anos atrás, e apesar de cada nó em si de uma rede ser simples, a complexidade de toda a rede e suas interações cresce exponencialmente. \n",
    "\n",
    "A google desenvolveu um site para fins demonstrativos e vamos dar um pulo lá para visualizar melhor: https://playground.tensorflow.org/\n",
    "\n"
   ]
  },
  {
   "cell_type": "markdown",
   "metadata": {
    "colab_type": "text",
    "id": "RoAxA9PHzIo9"
   },
   "source": [
    "## 1.3 Machine Learning  <a id='section1.3'> </a>\n",
    "\n",
    "\n",
    "As variações de implementações das redes neurais começaram a ser agrupadas e chamadas de \"machine learning\", que se traduz como aprendizado de máquina. É uma área da inteligência artificial que estuda algoritmos e modelos estatísticos que podem ser usados por computadores para que executem tarefas de forma \"inteligente\", ou seja, sem instruções específicas para isso.\n",
    "Os algoritmos são baseados em \"dados para treinamento\" para que o computador possa inferir conhecimento e tomar decisões sem ter recebido as intruções específico e explícitas para isso.\n",
    "\n",
    "Hoje em dia temos dezenas de formas de se fazer uma rede neural e treiná-la. Isso mesmo, treinar uma rede. Mas como funciona esse processo?\n",
    "\n",
    "Até agora nós aprendemos a programar da seguinte forma: temos dados de entrada e um problema para resolver. Devemos escrever um programa que pega os dados de entrada, faz alterações e contas com esses dados e produz a  saída que resolve o meu problema.\n",
    "\n",
    "O machine learning muda essa nossa lógica. Damos uma grande quantidade de dados de entrada e os dados de saída correspondentes. O computador então trabalha com esses dados e produz um programa que resolve o problema, então ele apenas observa e \"aprende\" a resolver o problema. \n"
   ]
  },
  {
   "cell_type": "markdown",
   "metadata": {
    "colab_type": "text",
    "id": "ozWRhh-EW8s8"
   },
   "source": [
    "# 2. Aprendendo na Prática <a id='section2'></a>\n",
    "\n",
    "Vamos explicar os conceitos de machine learning desenvolvendo uma aplicação que tem como objetivo treinar uma rede que diferencia fotos de cachorrinhos e gatinhos.\n",
    "\n",
    "Os códigos e dados utilizados neste cenário foram extraídos de repositórios abertos disponíveis na internet. Recomendamos dar uma olhada na fonte original: https://github.com/fastai/course-v3/tree/master/nbs/dl1\n",
    "\n",
    "Existem também centenas de outros cursos, plataformas e material sobre este conteúdo! É uma area de estudo muito promissora e esta aula é apenas o começo! :) "
   ]
  },
  {
   "cell_type": "markdown",
   "metadata": {
    "colab_type": "text",
    "id": "t3wj-pSK7ypY"
   },
   "source": [
    "## 2.1 Preparando os dados <a id='section2.1'></a>\n",
    "\n",
    "\n",
    "Como dito previamente, precisamos alimentar o computador com um montande de dados para que ele possa treinar e aprender a solucionar o problema sozinho. \n",
    "\n",
    "Quanto maior a quantidade de fotos de cães e gatos classificados conseguirmos fornecer para treinar a nossa rede, melhor tende a ser o nosso programa. Na nossa situação atual a classificação é relativamente simples, separamos as fotos de gatos em uma pasta e as fotos de cães em outra.\n",
    "\n",
    "Porém, problemas de classificações podem ser muito mais complexos: podemos ter dezenas ou centenas de classes diferentes e até fotos que se encaixam em mais de uma classe, como um carro inteligente andando na rua e detectando várias placas ao mesmo tempo. Nesses casos uma rota comum para tratar os dados é utilizar uma forma de \"anotação\" na imagem que aponta o que são os os objetos que estão aparecendo, o que é um processo manual e muito trabalhoso.\n",
    "\n",
    "A tendência de quanto maior a quantidade de dados melhor o desempenho da rede se extende para outros domínios também.\n",
    "\n",
    "Então temos 2 conjuntos de dados:\n",
    "* Os dados de treino\n",
    "* Os dados de uso real\n",
    "\n",
    "Os dados de treino normalmente são fornecidos e criados por quem está desenvolvendo a solução, podem ser obtidos de cenários do problema que se deseja resolver ou até vir de simulações. Eles são controlados e tratados, ou seja, nós temos que saber qual é sua classificação/anotação correta. Eles são utilizados, como o nome diz, para treinar a rede. Algumas redes não precisam de dados de treino e podem ser executadas no que é chamado de \"treino não supervisionado\".\n",
    "\n",
    "Já os dados de uso real são aqueles que iremos testar a nossa rede e que nunca foram executados antes na rede. O resultado dele depende da qualidade e quantidade de dados de treino. Se a rede estiver bem treinada, os resultados dos dados de uso real estarão corretos. "
   ]
  },
  {
   "cell_type": "code",
   "execution_count": null,
   "metadata": {
    "colab": {},
    "colab_type": "code",
    "id": "ZfkdJFl73gf6"
   },
   "outputs": [],
   "source": [
    "# Importando as bibliotecas\n",
    "from fastai.vision import *    # Módulos da rede neural"
   ]
  },
  {
   "cell_type": "code",
   "execution_count": null,
   "metadata": {
    "colab": {},
    "colab_type": "code",
    "id": "_u7GdbR95jI7"
   },
   "outputs": [],
   "source": [
    "# Apenas rode caso você esteja no Google Colab!!!\n",
    "\n",
    "from google.colab import drive # Módulo para manipulação dos arquivos e pastas (Não é necessário para executar localmente)\n",
    "drive.mount('/content/drive') # Montando o Google Drive\n",
    "# Definindo a localização dos dados:\n",
    "data_folder = \"/content/drive/My Drive/Introcomp/2019/Aulas/AulasPython/Aula 2.2/Data/train\"\n",
    "# Pasta de imagens de gatos:\n",
    "cat_folder = 'kittens/'\n",
    "\n",
    "# Pasta de imagens de cachorros:\n",
    "dog_folder = 'puppies/'\n",
    "\n",
    "# Arquivo contendo as anotações:\n",
    "annotations = 'annotations.csv'\n"
   ]
  },
  {
   "cell_type": "markdown",
   "metadata": {
    "colab_type": "text",
    "id": "fR1So6vbzDF4"
   },
   "source": [
    "Vamos informar para o nosso programa onde que os nossos dados estão:"
   ]
  },
  {
   "cell_type": "code",
   "execution_count": null,
   "metadata": {
    "colab": {},
    "colab_type": "code",
    "id": "G3hRo0aI6dGi"
   },
   "outputs": [],
   "source": [
    "# Rode caso você esteja no Jupyter \n",
    "\n",
    "\n",
    "data_folder = \"Data/train\"\n",
    "# Pasta de imagens de gatos:\n",
    "cat_folder = 'kittens/'\n",
    "\n",
    "# Pasta de imagens de cachorros:\n",
    "dog_folder = 'puppies/'\n",
    "\n",
    "# Arquivo contendo as anotações:\n",
    "annotations = 'annotations.csv'\n"
   ]
  },
  {
   "cell_type": "code",
   "execution_count": null,
   "metadata": {
    "colab": {},
    "colab_type": "code",
    "id": "PeJVZiWe9ymu"
   },
   "outputs": [],
   "source": [
    "# Definindo um caminho para os arquivos\n",
    "path = Path(data_folder)\n",
    "path.ls()"
   ]
  },
  {
   "cell_type": "markdown",
   "metadata": {
    "colab_type": "text",
    "id": "wyf2Pnp860gF"
   },
   "source": [
    "---\n",
    "\n",
    "Para esse cenário, iremos utilizar uma rede chamada Convolutional Neural Network (CNN). Ela é muito utilizada em domínios que envolvem imagem e reconhecimento de objetos.\n",
    "O problema que estamos lidando é uma forma de classificação, onde cada dado (neste caso, imagem) tem uma \"label\" que define um tipo de classe (no caso, se é um cachorro ou gato).\n",
    "\n",
    "---"
   ]
  },
  {
   "cell_type": "code",
   "execution_count": null,
   "metadata": {
    "colab": {},
    "colab_type": "code",
    "id": "v_WvljL48627"
   },
   "outputs": [],
   "source": [
    "# Carregando uma rede pré-definida sem treino, será uma Simple CNN\n",
    "model = simple_cnn((3, 16, 16, 2))\n",
    "# O parâmetro é uma tupla contendo os tamanhos das camadas da rede.\n",
    "# A camada da entrada terá 3 nós\n",
    "# Terão duas camadas ocultas com 16 nós cada\n",
    "# A camada da saída tem 2 nós"
   ]
  },
  {
   "cell_type": "code",
   "execution_count": null,
   "metadata": {
    "colab": {},
    "colab_type": "code",
    "id": "TAQzQjDg9juq"
   },
   "outputs": [],
   "source": [
    "# Definindo as classes: no nosso caso é uma classe para gatos e outra para cães\n",
    "classes = ['kittens', 'puppies']"
   ]
  },
  {
   "cell_type": "code",
   "execution_count": null,
   "metadata": {
    "colab": {},
    "colab_type": "code",
    "id": "sycu92SF-ZW9"
   },
   "outputs": [],
   "source": [
    "# Verificando imagens:\n",
    "for c in classes:\n",
    "  print(c)\n",
    "  verify_images(path/c, delete=True, max_size=500)"
   ]
  },
  {
   "cell_type": "code",
   "execution_count": null,
   "metadata": {
    "colab": {},
    "colab_type": "code",
    "id": "x7pxOVyy_MLH"
   },
   "outputs": [],
   "source": [
    "# Carregando os dados\n",
    "np.random.seed(42)  # O \"np\" indica uma biblioteca chamada NumPy, muito utilizada, voltada para computação numérica em Python. O random é para utilizar um número aleatório como inicializador dos dados\n",
    "data = ImageDataBunch.from_folder(path, train=\".\", valid_pct=0.2,\n",
    "                      ds_tfms=get_transforms(), size=224, num_workers=4).normalize(imagenet_stats)  # Comando do fast.ai para carregar os dados"
   ]
  },
  {
   "cell_type": "code",
   "execution_count": null,
   "metadata": {
    "colab": {},
    "colab_type": "code",
    "id": "Y_4Cdi88_37T"
   },
   "outputs": [],
   "source": [
    "# Verificando as classes\n",
    "data.classes"
   ]
  },
  {
   "cell_type": "code",
   "execution_count": null,
   "metadata": {
    "colab": {},
    "colab_type": "code",
    "id": "GoDo1_fbAVUx"
   },
   "outputs": [],
   "source": [
    "# Exibindo as nossas classes nomeadas, para verificarmos se está como o esperado\n",
    "data.show_batch(rows=3, figsize=(7,8))"
   ]
  },
  {
   "cell_type": "markdown",
   "metadata": {
    "colab_type": "text",
    "id": "6VLOVZVzA2dm"
   },
   "source": [
    "## 2.2 Treinando a rede <a id='section2.2'></a>\n",
    "\n",
    "Agora que preparamos os dados, também conhecido como *dataset*, vamos para o treinamento da rede.\n",
    "\n",
    "Treinar a rede costuma utilizar muitos recursos computacionais, pois é necessário fazer uma quantidade grande de operações matemáticas.\n",
    "\n",
    "De forma geral o treinamento de uma rede é como colocar o computador para fazer uma prova e ver qual nota ele tira, repetindo este processo milhares de vezes. Cada vez que ele faz a prova ele muda a resposta de uma questão e observa se a nota dele aumentou ou diminuiu. Depois de fazer muito essa prova, ele \"aprendeu\" a matéria e pode fazer uma prova parecida tentando acertar tudo e tirar um 10.\n",
    "\n",
    "Assim como uma pessoa, a nota final dele em uma prova desconhecida vai depender da quantidades de provas feitas previamente.\n",
    "\n",
    "Então a nossa analogia de fazer uma prova se traduz assim para o machine learning:\n",
    "\n",
    "\n",
    "|Prova |Rede neural|\n",
    "|--------|---------|\n",
    "|Questões| Dados|\n",
    "|Qtd de questões que mudam| Taxa de aprendizado|\n",
    "|Nota| Métrica |\n",
    "|Quantidade de provas feitas | Tempo de treinamento|\n",
    "|Provas que não foram treinadas | Dados de uso real|\n",
    "\n",
    "---\n",
    "\n",
    "Muito do treinamento e as operações em baixo nível são abstraídos na biblioteca que estamos utilizando, visando ter um desenvolvimento mais rápido e simples, porém, outras bibliotecas dão maior acesso ao funcionamento interno e parâmetros avançados para usos específicos. Para usar tais bibliotecas, como Keras e PyTorch é recomendado ter um conhecimento mais profundo de estatística e Cálculo.\n",
    "\n",
    "---"
   ]
  },
  {
   "cell_type": "code",
   "execution_count": null,
   "metadata": {
    "colab": {},
    "colab_type": "code",
    "id": "Yvq-8FoZA4rW"
   },
   "outputs": [],
   "source": [
    "# Definindo nosso modo de aprendizado\n",
    "learn = cnn_learner(data, models.resnet34, metrics=error_rate)"
   ]
  },
  {
   "cell_type": "code",
   "execution_count": null,
   "metadata": {
    "colab": {},
    "colab_type": "code",
    "id": "teS1Z4NFBuAe"
   },
   "outputs": [],
   "source": [
    "# Treinando a rede...\n",
    "learn.fit_one_cycle(4)"
   ]
  },
  {
   "cell_type": "code",
   "execution_count": null,
   "metadata": {
    "colab": {},
    "colab_type": "code",
    "id": "g9y-v_pvCDJW"
   },
   "outputs": [],
   "source": [
    "learn.save('stage-1') # Salvando o estado atual da rede"
   ]
  },
  {
   "cell_type": "code",
   "execution_count": null,
   "metadata": {
    "colab": {},
    "colab_type": "code",
    "id": "aG5cHWUYCGgb"
   },
   "outputs": [],
   "source": [
    "# Gerando \"estatísticas\" sobre o treinamento\n",
    "learn.unfreeze()\n",
    "learn.lr_find()"
   ]
  },
  {
   "cell_type": "markdown",
   "metadata": {
    "colab_type": "text",
    "id": "Y7clfZMQXZF-"
   },
   "source": [
    "---\n",
    "\n",
    "Agora vamos ver como que a rede foi aprendendo com o tempo.\n",
    "\n",
    "A taxa de aprendizado é um parâmetro da rede responsável por regular como que os nós da rede mudam a cada iteração. Uma alta taxa de aprendizado é uma grande mudança a cada iteração e uma baixa taxa é uma pequena mudança a cada iteração. Pode ser representado como quão disposta a rede está de esquecer algo antigo e aprender algo novo.\n",
    "\n",
    "\n",
    "**Então porquê não colocamos a maior taxa de aprendizado possível?**\n",
    "\n",
    "Em várias situações o ponto de melhor desempenho da rede não é simples de ser alcançado e seu caminho requer passos bem pequenos. Ter uma taxa alta pode introduzir muito erro no sistema e tornar a rede ineficiente.\n",
    "\n",
    "---"
   ]
  },
  {
   "cell_type": "code",
   "execution_count": null,
   "metadata": {
    "colab": {},
    "colab_type": "code",
    "id": "uid6jU8qCX2H"
   },
   "outputs": [],
   "source": [
    "# Plotando a taxa de aprendizado \n",
    "learn.recorder.plot()"
   ]
  },
  {
   "cell_type": "markdown",
   "metadata": {
    "colab_type": "text",
    "id": "ET3vpF6keqaA"
   },
   "source": [
    "---\n",
    "\n",
    "Pelo gráfico podemos observar que passamos por um estado onde a nossa taxa de erro era menor do que a taxa de erro final, então podemos executar mais algumas etapas de treino para melhorar nossos resultados\n",
    "\n",
    "---"
   ]
  },
  {
   "cell_type": "code",
   "execution_count": null,
   "metadata": {
    "colab": {},
    "colab_type": "code",
    "id": "NYDUOVynC_7o"
   },
   "outputs": [],
   "source": [
    "# Retreinando a rede a fim de obter melhores resultados:\n",
    "learn.fit_one_cycle(2, max_lr=slice(1e-4, 1e-3))"
   ]
  },
  {
   "cell_type": "markdown",
   "metadata": {
    "colab_type": "text",
    "id": "AchfIl1gKl_m"
   },
   "source": [
    "## 2.3 Melhorando nosso modelo <a id='section2.3'></a>\n",
    "\n",
    "Foi possível observar que pequenas alterações na quantidade de treino podem resultar em desempenhos bem diferentes. Também notamos que o nosso desempenho pode diminuir com mais testes (procure por *overfitting* na internet) e que treinar duas redes, com os mesmos dados, pelo mesmo tempo pode resultar em 2 algoritmos diferentes pois os pesos dos nós podem ter sido inicializados de forma aleatória e são bem sensíveis às condições iniciais.\n",
    "\n",
    "Além disso, os parâmetros da rede (tipo de rede, quantidade de camadas, taxa de aprendizado) são outras variáveis que nem chegamos a mexer e alteram ainda mais o nosso resultado, tempo médio de treino, quantidade e qualidade de dados necessários.\n",
    "\n",
    "Já existem estudos mais avançados na área onde outras redes neurais são utilizadas para otimizar os parâmetros de uma rede neural.\n",
    "\n",
    "Vamos prosseguir ao exemplo:\n"
   ]
  },
  {
   "cell_type": "code",
   "execution_count": null,
   "metadata": {
    "colab": {},
    "colab_type": "code",
    "id": "6iEVMloSDrxw"
   },
   "outputs": [],
   "source": [
    "\n",
    "# Conseguimos uma taxa de erro bem menor dessa vez\n",
    "# Salvando o estágio atual\n",
    "learn.save('stage-2')"
   ]
  },
  {
   "cell_type": "code",
   "execution_count": null,
   "metadata": {
    "colab": {},
    "colab_type": "code",
    "id": "SfP8alzZEBWF"
   },
   "outputs": [],
   "source": [
    "# Carregando o estágio atual\n",
    "learn.load('stage-2')"
   ]
  },
  {
   "cell_type": "code",
   "execution_count": null,
   "metadata": {
    "colab": {},
    "colab_type": "code",
    "id": "DzK0bA_8EGQo"
   },
   "outputs": [],
   "source": [
    "# Carregando as estatíscas do treino\n",
    "interp = ClassificationInterpretation.from_learner(learn)"
   ]
  },
  {
   "cell_type": "markdown",
   "metadata": {
    "colab_type": "text",
    "id": "hYmdXSWDgZ5s"
   },
   "source": [
    "---\n",
    "\n",
    "Uma outra forma de observar o desempenho de nossa rede é utilizando uma Matriz de confusão\n",
    "\n",
    "**E como ela funciona?**\n",
    "\n",
    "Simples: temos uma matriz quadrada, mesma quantidade de linhas e colunas, onde cada linha e coluna representam uma classe. Um dos eixos dessa matriz contém as classes que a nossa rede previu e o outro eixo qual que era a classe correta. \n",
    "\n",
    "Então as células que têm o mesmo nome no eixo X e no eixo Y indicam as previsões corretas de nossa rede, e as outras células são as *confusões* que ela teve e classificou errado.\n",
    "\n",
    "Ou seja: queremos uma diagonal da matriz com o maior valor possível e bem distribuído.\n",
    "\n",
    "\n",
    "**Como ficaria a matriz caso tivéssemos mais classes?**\n",
    "\n",
    "Como a matriz tem uma linha e uma coluna para cada classe, a dimensão da matriz é sempre de NxN, onde N é a quantidade de classes.\n",
    "\n",
    "---"
   ]
  },
  {
   "cell_type": "code",
   "execution_count": null,
   "metadata": {
    "colab": {},
    "colab_type": "code",
    "id": "DXKgF4n0ERAP"
   },
   "outputs": [],
   "source": [
    "# Plotando uma matriz de confusão\n",
    "interp.plot_confusion_matrix()"
   ]
  },
  {
   "cell_type": "code",
   "execution_count": null,
   "metadata": {
    "colab": {},
    "colab_type": "code",
    "id": "qrPnTqikEZ0O"
   },
   "outputs": [],
   "source": [
    "# Poucos erros, estamos bem!\n",
    "\n",
    "# Exportando a rede\n",
    "learn.export()"
   ]
  },
  {
   "cell_type": "markdown",
   "metadata": {
    "colab_type": "text",
    "id": "iueBQHZLMM9F"
   },
   "source": [
    "## 2.4 Colocando à prova <a id='section2.4'></a>\n",
    "\n",
    "Então agora iremos expor o nosso programa à dados que ele nunca viu antes e vamos ver se ele está de acordo com nossas expectativas e consegue cumprir a missão:"
   ]
  },
  {
   "cell_type": "code",
   "execution_count": null,
   "metadata": {
    "colab": {},
    "colab_type": "code",
    "id": "mfvbarhnE1Lg"
   },
   "outputs": [],
   "source": [
    "# Carregando a imagem\n",
    "img = open_image(path/'..'/'test'/'puggo.jpg')"
   ]
  },
  {
   "cell_type": "code",
   "execution_count": null,
   "metadata": {
    "colab": {},
    "colab_type": "code",
    "id": "k_zM7t7gFPA5"
   },
   "outputs": [],
   "source": [
    "# Exibindo a imagem carregada\n",
    "img"
   ]
  },
  {
   "cell_type": "code",
   "execution_count": null,
   "metadata": {
    "colab": {},
    "colab_type": "code",
    "id": "aD48T4vFFSa-"
   },
   "outputs": [],
   "source": [
    "# Carregando a rede que treinamos:\n",
    "learn = load_learner(path)"
   ]
  },
  {
   "cell_type": "code",
   "execution_count": null,
   "metadata": {
    "colab": {},
    "colab_type": "code",
    "id": "jRP5eKFsFbOs"
   },
   "outputs": [],
   "source": [
    "# Predizendo \"que bicho é esse?\" com a rede treinada:\n",
    "pred_class,pred_idx,outputs = learn.predict(img)\n",
    "pred_class"
   ]
  },
  {
   "cell_type": "markdown",
   "metadata": {
    "colab_type": "text",
    "id": "7frUNOAutDEv"
   },
   "source": [
    "## Exercício\n",
    "Agora é sua vez de verificar o funcionamento da rede. Pegue QUALQUER imagem que ache interessante e verifique sua categoria."
   ]
  },
  {
   "cell_type": "code",
   "execution_count": null,
   "metadata": {
    "colab": {},
    "colab_type": "code",
    "id": "U3aoTaEAtX3y"
   },
   "outputs": [],
   "source": [
    "# Verifique aqui"
   ]
  },
  {
   "cell_type": "markdown",
   "metadata": {
    "colab_type": "text",
    "id": "du0_OQ-VAe7l"
   },
   "source": [
    "# 3. Referências e mais conteúdo  <a id='section3'> </a>\n",
    "\n",
    "* <a href=\"https://github.com/fastai/course-v3\"> Curso completo sobre Machine Learning em formato de notebooks (fast.aiV3) </a>\n",
    "* <a href=\"https://playground.tensorflow.org\"> Google TensorFlow Playground </a>\n",
    "* <a href=\"https://www.youtube.com/watch?v=Ucp0TTmvqOE\"> Tesla Autonomy Day (Tesla)</a>\n",
    "* <a href=\"UC0e3QhIYukixgh5VVpKHH9Q\">Canal no YouTube de entretenimento educativo (Code Bullet) </a>\n",
    "* <a href=\"https://www.youtube.com/user/carykh\">Canal no YouTube com animações e apresentações sobre redes neurais (carykh) </a>\n",
    "* <a href=\"https://www.3blue1brown.com/neural-networks\">Playlist explicando sobre a teoria das redes neurais de forma mais aprofundada (3Blue1Brown) </a>\n",
    "* <a href=\"https://www.youtube.com/watch?v=R9OHn5ZF4Uo\"> How Machines Learn (CGP Grey) </a>\n",
    "* <a href=\"https://cs.stanford.edu/people/karpathy/convnetjs/index.html\"> Deep Learning in your browser (ConvNetJS) </a>\n",
    "* <a href=\"https://www.youtube.com/watch?v=6g4O5UOH304\"> TensorFlow 2.0 Full Tutorial - Python Neural Networks for Beginners (FreeCodeCamp.org) </a>\n",
    "\n"
   ]
  }
 ],
 "metadata": {
  "accelerator": "GPU",
  "colab": {
   "collapsed_sections": [],
   "name": "Aula 8 - Redes Neurais, Módulos e Manipulação de Arquivos",
   "provenance": []
  },
  "kernelspec": {
   "display_name": "Python 3",
   "language": "python",
   "name": "python3"
  },
  "language_info": {
   "codemirror_mode": {
    "name": "ipython",
    "version": 3
   },
   "file_extension": ".py",
   "mimetype": "text/x-python",
   "name": "python",
   "nbconvert_exporter": "python",
   "pygments_lexer": "ipython3",
   "version": "3.5.3"
  }
 },
 "nbformat": 4,
 "nbformat_minor": 1
}
