{
 "cells": [
  {
   "cell_type": "markdown",
   "metadata": {},
   "source": [
    "<h1>AULA DE ORIENTAÇÃO A OBJETOS EM PYTHON </h1>"
   ]
  },
  {
   "attachments": {
    "image.png": {
     "image/png": "[encoded data removed]"
    }
   },
   "cell_type": "markdown",
   "metadata": {},
   "source": [
    "## 1 Do que se trata uma linguagem ORIENTADA A OBJETOS\n",
    "\n",
    "Antes de darmos início ao entendimento da programação orientada objeto (POO), é necessário que saibamos os conceitos básicos de paradigmas de programação, estes que são meios de se classificar uma linguagem em termos de suas funcionalidades. Existem vários tipos de paradigmas dos quais podemos citar alguns como procedural, funcional, estruturado, imperativo e, é claro, orientado a objeto.\n",
    "\n",
    "Existem também, linguagens conhecidas como multiparadigmas, uma vez que, como o nome sugere, operam com mais de um paradigma, o que é o caso da linguagem abordada em nosso curso, Python.\n",
    "\n",
    "Um dos paradigmas presente na linguagem Python é a orientação a objeto que iremos abordar nesta aula, por conta disso, a própria linguagem traz consigo, recursos e funcionalidades voltadas para apoiar tal paradigma.\n",
    "\n",
    "Até agora, em nossas aulas, trabalhamos com o paradigma procedural, cuja a idéia principal consiste na criação de funções (procedimentos) que operam sobre os dados. Já na orientação a objeto, o foco muda para a criação de \"objetos\" que contém dados e funções ao mesmo tempo, fazendo assim, um paralelo aos objetos do mundo real, estes que possuem suas informações intrínsecas e também suas funcionalidades.   \n",
    "\n",
    "\n",
    "### IMPORTANTE -  Conteúdo extra \n",
    "\n",
    "\n",
    "### 1.1 Os quatro pilares que seguem a POO\n",
    "\n",
    "Aqui será abordado 4 aspectos que tornam uma linguagem orientada a objetos, não iremos aprofundar nesses aspectos, falaremos o básico apenas para que se tenha conhecimento de como é formada um paradigma POO.\n",
    "\n",
    "#### 1.1.1 Abstração\n",
    "\n",
    "Precisamos lembrar que estamos querendo trabalhar com objetos, conceitos reais de objetos, então precisamos estudar e entender o que tal representação de um objeto real irá realizar dentro do nosso sistema. <br>\n",
    "\n",
    "É muito importante identificar o objeto e dar uma indentidade a ele, isso quer dizer que você entendeu a existência de um objeto essêncial para seu sistema/programa e o definiu de forma que sempre saberá quem e o que é. É de suma gravidade que a identidade do objeto permaneça única, isso evita conflitos dentro do sistema.<br>\n",
    "\n",
    "Agora que você identificou esse objeto, é necessário saber suas caracteristicas, o que define esse objeto, pelo que ele é constituido? Por exemplo, vocẽ tem um martelo azul, preço de 23 reais e tamanho de 40cm, está claro que as caracteristicas do martelo é azul, tamanho de 40cm e preço de 23 reais. Para ficar mais claro ainda, imagine um cachorro, quais são as possíveis caracteristicas? Raça, tamanho, pelo, cor, nome, idade... <br>\n",
    "\n",
    "Pronto, já sabemos quais caracteristicas nosso objeto possuí, precisamos agora saber o que ele realiza, quais ações pelo objeto podem ser tomadas? Essas ações podem ser um latido, se nosso objeto for um cachorro, martelar se nosso objeto for um martelo, cortar se o nosso objeto for uma faca, enfim inúmeras ações que dependem da identidade de um objeto.<br>\n",
    "\n",
    "Obs: Caracteristicas e ações, são vistas como propriedades e métodos respectivamente em linguagens de POO.\n",
    "\n",
    "#### 1.1.2 Caixa Preta - Encapsulamento\n",
    "\n",
    "No processo de programação a orientação a objetos conseguimos omitir informações, essas no caso são propriedades dos objetos, transmitindo assim mais segurança a aplicações do nosso sistema, é como se envolvessemos essas informações em caixas pretas, e isso chamamos de encapsulamento. <br>\n",
    "\n",
    "Feito na maioria das linguagens, onde definem as propriedades de forma privada, bloqueando assim o acesso direto a essas informações, implementando metodos  *getters* e *setters*, que retornam e atribuem valores respectivamente.<br>\n",
    "\n",
    "Uma forma de entender esse encapsulamento: Imagine que você está em um caixa eletrônico, você insere o seu cartão, digita sua senha, ou faz a leitura biometrica, não importa, você terá acesso a sua conta, vamos focar no saldo, você consegue inserir dinheiro (setar), e extrair (sacar) e visulizar o saldo, o caixa eletrônico vai ser nossa caixa preta, você não tem acesso direto as informações, você não consegue por exemplo sem inserir ou sacar dinheiro mudar seu saldo, mas consegue visualizar ou retirar certa quantia. Da para perceber que depositar dinheiro é um método setter e que visualizar e sacar é mais para um getter, mas tem diferença entre esses dois, sacar é um pouco mais complexo que só considerar como um método getter.<br>\n",
    "\n",
    "#### 1.1.3 Família - Herança\n",
    "\n",
    "Um grande e importante aspecto da POO, aqui vamos trabalhar com objetos de caracteristicas semelhantes e queremos otimizar isso para evitar linhas de código e ações redundantes. Antes de dizer como, vamos a um exemplo pratico da realidade. <br>\n",
    "\n",
    "O conceito família vai entrar em ação aqui, filhos herdam caracteristicas genéticas dos pais, correto? Que são herdadas por seus ancestrais, e uma família possui uma árvore genética, onde são listadas as caracteristicas, cor de olhos, cabelos... É basicamente o que vai acontecer com os objetos, as caracteristicas podem ser herdadas um por um passando de ancestral a ancestral até chegar ao objeto atual. <br><br>\n",
    "\n",
    "![image.png](attachment:image.png)\n",
    "\n",
    "\n",
    "Vamos exemplificar melhor, você ta construindo dois objetos, esses dois objetos possuem entre eles caracteristicas semelhantes, propriedades como, cor, nome, valor, e a unica coisa que muda entre eles é que um possui a propriedade tamanho e o outro diametro, você pode declarar esses dois objetos de forma distinta ou pode declarar como se fossem filhos de um mesmo pai assim herdando essas caracteristicas semelhantes. "
   ]
  },
  {
   "attachments": {
    "image.png": {
     "image/png": "[encoded data removed]"
    }
   },
   "cell_type": "markdown",
   "metadata": {
    "scrolled": true
   },
   "source": [
    "![image.png](attachment:image.png)\n",
    "\n",
    "#### 1.1.4 Polimorfismo\n",
    "\n",
    "Esse aspecto está abraçado com a herença, como os animais se adaptam durante uma situação, na POO existira momentos que objetos teram que se adaptar, esses são objetos que herdam do pai propriedades e métodos, mas cada objeto tem uma forma diferente de executar um método. Por exemplo, um microondas e uma televisão são eletrodomesticos, e ligam de forma diferente, se eletrodomestico é um objeto pai e microondas e televisão são filhas, o método ligar por exemplo é diferente para os dois, logo precisa ser adaptado para a situação (reescrito)."
   ]
  },
  {
   "cell_type": "markdown",
   "metadata": {},
   "source": [
    "## 2 Orientação a Objetos com Python\n",
    "\n",
    "Vamos considerar primeiramente um problema tipico da realidade, e vamos aplicar ele de duas formas, no paradigma procedural e depois no orientado a objetos. O problema que vamos considerar aqui é o de cadastro de pessoas em um plano de saúde. \n",
    "\n",
    "### 2.1 De forma procedural\n",
    "\n",
    "De uma pessoa para o cadastro queremos o cpf, o nome, o email, o telefone, etc. Vamos trabalhar somente com essas 4 primeiras informações. E vamos cadastrar nosso primeiro cliente no plano de saúde."
   ]
  },
  {
   "cell_type": "code",
   "execution_count": 4,
   "metadata": {},
   "outputs": [],
   "source": [
    "nome = \"Lucas\"\n",
    "cpf = \"323-123-123-54\"\n",
    "email = \"lucas@gmail.com\"\n",
    "telefone=\"(27)5566-3232\""
   ]
  },
  {
   "cell_type": "markdown",
   "metadata": {},
   "source": [
    "E se fossemos cadastrar outro cliente?"
   ]
  },
  {
   "cell_type": "code",
   "execution_count": 5,
   "metadata": {},
   "outputs": [],
   "source": [
    "nome1 = \"Jorginho\"\n",
    "cpf1 = \"123-563-743-45\"\n",
    "email1=\"jorginho_tal_do_brabo@gmail.com\"\n",
    "telefone1=\"(27)2346-2412\""
   ]
  },
  {
   "cell_type": "markdown",
   "metadata": {},
   "source": [
    "Percebe-se que seria um trabalho cansativo e braçal certo? <br>\n",
    "Agora pense em uma empresa gigante cheio de filiados, clientes... Existiria milhares de contas, portanto a manutenção seria custosa.<br>\n",
    "\n",
    "Podemos ir melhorando isso, uma forma de conseguir organizar melhor o código é usar nossa estrutura que aprendemos recentemente, o dicionário:  "
   ]
  },
  {
   "cell_type": "code",
   "execution_count": 6,
   "metadata": {},
   "outputs": [],
   "source": [
    "paciente = {\"nome\":\"Lucas\",\"cpf\":\"323-123-123-54\",\"email\":\"lucas@gmail.com\",\"telefone\":\"(27)5566-3232\"}\n",
    "paciente1 = {\"nome\":\"Jorge\",\"cpf\":\"123-563-743-45\",\"email\":\"jorge@gmail.com\",\"telefone\":\"(27)2346-2412\"}"
   ]
  },
  {
   "cell_type": "markdown",
   "metadata": {},
   "source": [
    "Isso melhora muito nosso programa, agora conseguimos inclusive acessar as informações a partir de chaves e fazer manutenções pelas proprias chaves. "
   ]
  },
  {
   "cell_type": "code",
   "execution_count": 7,
   "metadata": {},
   "outputs": [
    {
     "name": "stdout",
     "output_type": "stream",
     "text": [
      "Lucas\n",
      "Jorge\n"
     ]
    }
   ],
   "source": [
    "print(paciente['nome'])\n",
    "print(paciente1['nome'])"
   ]
  },
  {
   "cell_type": "code",
   "execution_count": 8,
   "metadata": {},
   "outputs": [
    {
     "name": "stdout",
     "output_type": "stream",
     "text": [
      "Jorge\n",
      "Jorge\n"
     ]
    }
   ],
   "source": [
    "paciente['nome'] = paciente1['nome']\n",
    "print(paciente['nome'])\n",
    "print(paciente1['nome'])"
   ]
  },
  {
   "cell_type": "markdown",
   "metadata": {},
   "source": [
    "Ainda assim, teriamos que ficar repetindo a linha de código para declarar cada paciente novo. Podemos começar a mudar isso criando funções que serão chamadas para cada paciente novo necessário a ser criado."
   ]
  },
  {
   "cell_type": "code",
   "execution_count": 9,
   "metadata": {},
   "outputs": [
    {
     "name": "stdout",
     "output_type": "stream",
     "text": [
      "{'nome': 'Lucas', 'cpf': '323-123-123-54', 'email': 'lucas@gmail.com', 'telefone': '(27)5566-3232'}\n"
     ]
    }
   ],
   "source": [
    "#Função para criar um paciente, parametros são os dados necessários para se cadastrar um paciente\n",
    "def definir_paciente (nome,cpf,email,telefone):\n",
    "    paciente = {\"nome\":nome,\"cpf\":cpf,\"email\":email,\"telefone\":telefone}\n",
    "    return paciente\n",
    "#Aqui você está criando um paciente novo\n",
    "paciente1 = definir_paciente (\"Lucas\",\"323-123-123-54\",\"lucas@gmail.com\",\"(27)5566-3232\")\n",
    "print(paciente1)"
   ]
  },
  {
   "cell_type": "markdown",
   "metadata": {},
   "source": [
    "Agora precisamos criar algumas funcionalidades para nosso sistema do plano de saúde, vamos considerar nossas funcionalidades como, agendar_consulta, solicitar_aprovacao, especialidades. (As funções estarão bem simples, não funciona dessa forma na realidade, é apenas para uso de aprendizagem) "
   ]
  },
  {
   "cell_type": "code",
   "execution_count": 12,
   "metadata": {},
   "outputs": [
    {
     "name": "stdout",
     "output_type": "stream",
     "text": [
      "Aprovado dono do cpf: 323-123-123-54\n",
      "marcada com pediatra\n"
     ]
    }
   ],
   "source": [
    "#Aqui um agendamento de consula está sendo feita\n",
    "def agendar_consulta (especialidade,paciente):\n",
    "    if(solicitar_aprovacao(paciente['cpf'])==1):\n",
    "        print(\"marcada com \" + especialidade)\n",
    "        \n",
    "agendar_consulta(\"pediatra\",paciente)"
   ]
  },
  {
   "cell_type": "code",
   "execution_count": 11,
   "metadata": {},
   "outputs": [
    {
     "name": "stdout",
     "output_type": "stream",
     "text": [
      "Aprovado dono do cpf: 323-123-123-54\n"
     ]
    },
    {
     "data": {
      "text/plain": [
       "1"
      ]
     },
     "execution_count": 11,
     "metadata": {},
     "output_type": "execute_result"
    }
   ],
   "source": [
    "#Aqui solicita aprovar a consulta usando o plano\n",
    "def solicitar_aprovacao(cpf):\n",
    "    print(\"Aprovado dono do cpf: \"+cpf)\n",
    "    return 1\n",
    "solicitar_aprovacao (paciente['cpf'])"
   ]
  },
  {
   "cell_type": "code",
   "execution_count": 13,
   "metadata": {
    "scrolled": true
   },
   "outputs": [
    {
     "name": "stdout",
     "output_type": "stream",
     "text": [
      "Pediatra\n",
      "Oftalmologista\n",
      "Neurologista\n",
      "Psicologo\n"
     ]
    }
   ],
   "source": [
    "#Aqui lista as especialidades que os hospitais do plano atende\n",
    "def especialidades ():\n",
    "    print(\"Pediatra\")\n",
    "    print(\"Oftalmologista\")\n",
    "    print(\"Neurologista\")\n",
    "    print(\"Psicologo\")\n",
    "\n",
    "especialidades()"
   ]
  },
  {
   "cell_type": "markdown",
   "metadata": {},
   "source": [
    "### 2.2 De forma POO\n",
    "No modo procedural, consesguimos alterar informações de forma direta, como o nome de um paciente, seu cpf, entre outras coisas, não é muito evidente o quão perigoso isso é, e que esses acessos diretos podem prejudicar uma empresa por exemplo, mas imagine que em vez de ser o plano de saúde, estivessemos trabalhando com conta bancaria, percebe o peso que esses acessos diretos trariam nessa ocasião, certo? Vamos prosseguir com dois conceitos importantes para resolver problemas de forma POO.<br>\n",
    "\n",
    "#### 2.2.1 Classes\n",
    "Uma classe pode ser comparada às estruturas (tipos) antes vistas no paradigma procedural. Tendo isso em mente, definimos uma classe como uma estrutura capaz de abstrair um conjunto de objetos com características similares.<br>\n",
    "\n",
    "Uma classe é um conjunto de propriedades, caracteristicas, informações, etc., de alguma coisa, além disso também indentifica o comportamento dessa coisa, suas ações, funções, enfim, é um agrupamento descritivo de algo. <br>\n",
    "\n",
    "#### 2.2.2 Objetos\n",
    "Um objeto na programação orientada a objetos nada mais é do que uma instância de uma classe, ou seja, um exemplar da mesma. Traçamos um paralelo com os objetos que conhecemos na vida real, estes que possuem características próprias que os definem (chamadas em POO de atributos) e também utilidades próprias ou funções (métodos).\n",
    "\n",
    "#### 2.2.3 Métodos\n",
    "Uma classe irá definir o comportamento de seus objetos através de métodos, estes que podem ser relacionados às funções que já conhecemos. "
   ]
  },
  {
   "cell_type": "markdown",
   "metadata": {},
   "source": [
    "Portanto, tratando o problema inicial de uma forma orientada a objetos, temos: "
   ]
  },
  {
   "cell_type": "code",
   "execution_count": 14,
   "metadata": {},
   "outputs": [],
   "source": [
    "#criamos nossa classe vazia\n",
    "class Paciente:\n",
    "    pass"
   ]
  },
  {
   "cell_type": "code",
   "execution_count": 15,
   "metadata": {},
   "outputs": [],
   "source": [
    "#instanciamos nosso primeiro objeto paciente\n",
    "paciente = Paciente()"
   ]
  },
  {
   "cell_type": "markdown",
   "metadata": {},
   "source": [
    "Nosso paciente ainda não possui nenhum atributo, ou seja nem uma informação, como python trabalha de forma dinâmica, conseguimos acrescentar atributos ao nosso objeto."
   ]
  },
  {
   "cell_type": "code",
   "execution_count": 16,
   "metadata": {},
   "outputs": [
    {
     "name": "stdout",
     "output_type": "stream",
     "text": [
      "Jorge\n",
      "763-123-341-82\n"
     ]
    }
   ],
   "source": [
    "#acrescentando atributo nome e cpf ao objeto paciente\n",
    "paciente.nome = \"Jorge\"\n",
    "paciente.cpf = \"763-123-341-82\"\n",
    "print(paciente.nome)\n",
    "print(paciente.cpf)"
   ]
  },
  {
   "cell_type": "markdown",
   "metadata": {},
   "source": [
    "Isso não garante que toda instancia da classe Paciente que criamos vão possuir os atributos nome e cpf, logo não queremos trabalhar dessa forma, assim vamos criar o que chamamos de construtor."
   ]
  },
  {
   "cell_type": "code",
   "execution_count": 17,
   "metadata": {},
   "outputs": [],
   "source": [
    "#nosso construtor dentro da classe Paciente _init_(self,...)\n",
    "class Paciente:\n",
    "    def __init__(self,nome,cpf,email,telefone):\n",
    "        self.nome = nome\n",
    "        self.cpf = cpf\n",
    "        self.email = email\n",
    "        self.telefone = telefone\n",
    "        "
   ]
  },
  {
   "cell_type": "markdown",
   "metadata": {},
   "source": [
    "O `__init__`(self,...) é um método que chamamos de construtor, o self (chamamos assim por convenção), seu primeiro argumento é uma referência ao proprio objeto, a sua própria instância, os argumentos seguintes são atributos que vamos inicializar para o objeto. Apesar de chamarmos o `__init__`() de construtor, ele não cria um objeto em si, na verdade o `__init__`() como o nome diz, é responsável por inicializar o objeto, o `__new__`() que é responsável por criar o objeto, é um método chamado antes do `__init__`(), e isso é feito pelo próprio python, de forma que se fizermos paciente = Paciente (...) esses métodos padrões da linguagem são chamados."
   ]
  },
  {
   "cell_type": "code",
   "execution_count": 18,
   "metadata": {},
   "outputs": [
    {
     "name": "stdout",
     "output_type": "stream",
     "text": [
      "Jorge\n",
      "763-123-341-82\n"
     ]
    }
   ],
   "source": [
    "paciente = Paciente(\"Jorge\",\"763-123-341-82\",\"Jorge@hotmail.com\",\"(27)99233-2134\")\n",
    "print(paciente.nome)\n",
    "print(paciente.cpf)"
   ]
  },
  {
   "cell_type": "markdown",
   "metadata": {},
   "source": [
    "**Mais sobre conteudo de inicialização e memória pode ser visto no conteúdo extra no final da aula clicando *[aqui](#Conteúdo-extra-sobre-memória)* .**"
   ]
  },
  {
   "cell_type": "markdown",
   "metadata": {},
   "source": [
    " Agora qualquer objeto da classe Paciente que criarmos vai possuir inicialização dos atributos e quando chamarmos o construtor teremos que passar os argumentos, ou seja os atributos que o objeto vai possuir. Definimos nossa classe Paciente e criamos o construtor (inicializador), temos que escrever os métodos, as ações que o objeto instanciado a partir da classe pode fazer. Haviamos mencionado anteriormente sobre o argumento self, acontece que sempre o self será o primeiro argumento do nosso método, lembrando que na hora de chamar o método não é passado nada para o self, somente são passadas informações de outros argumentos. chamaremos o nosso método a partir do \".\", ao se instanciar um objeto qualquer, por exemplo paciente, podemos chamar um método da forma, _**paciente.método(...)**_."
   ]
  },
  {
   "cell_type": "code",
   "execution_count": 58,
   "metadata": {},
   "outputs": [
    {
     "name": "stdout",
     "output_type": "stream",
     "text": [
      "763-123-341-82\n"
     ]
    }
   ],
   "source": [
    "#demonstrando uma forma de necessidade do uso de refência ao próprio objeto\n",
    "#método get para acessar o cpf do paciente\n",
    "class Paciente:\n",
    "    def __init__(self,nome,cpf,email,telefone):\n",
    "        self.nome = nome\n",
    "        self.cpf = cpf\n",
    "        self.email = email\n",
    "        self.telefone = telefone\n",
    "    \n",
    "    def get_cpf(self):\n",
    "        return self.cpf\n",
    "    \n",
    "paciente = Paciente(\"Jorge\",\"763-123-341-82\",\"Jorge@hotmail.com\",\"(27)99233-2134\")\n",
    "print(paciente.get_cpf())"
   ]
  },
  {
   "cell_type": "markdown",
   "metadata": {},
   "source": [
    "Vamos continuar implementando nossas ações, precisamos agendar consulta, solicitar aprovação e ver as especialidades disponíveis. "
   ]
  },
  {
   "cell_type": "code",
   "execution_count": 83,
   "metadata": {},
   "outputs": [
    {
     "name": "stdout",
     "output_type": "stream",
     "text": [
      "Aprovado dono do cpf: 763-123-341-82\n",
      "marcada com Pediatra\n"
     ]
    }
   ],
   "source": [
    "#implementados os métodos agendar_consulta(), solicitar_aprovacao(), especialidades().\n",
    "class Paciente:\n",
    "    def __init__(self,nome,cpf,email,telefone):\n",
    "        self.nome = nome\n",
    "        self.cpf = cpf\n",
    "        self.email = email\n",
    "        self.telefone = telefone\n",
    "    \n",
    "    def get_cpf(self):\n",
    "        return self.cpf\n",
    "    def agendar_consulta(self,especialidade):\n",
    "        if(self.solicitar_aprovacao()==1):\n",
    "            print(\"marcada com \" + especialidade)\n",
    "    def solicitar_aprovacao(self):\n",
    "        print(\"Aprovado dono do cpf: \"+ self.get_cpf())\n",
    "        return 1\n",
    "    def especialidades():\n",
    "        print(\"Pediatra\")\n",
    "        print(\"Oftalmologista\")\n",
    "        print(\"Neurologista\")\n",
    "        print(\"Psicologo\")\n",
    "\n",
    "paciente = Paciente(\"Jorge\",\"763-123-341-82\",\"Jorge@hotmail.com\",\"(27)99233-2134\")\n",
    "paciente.agendar_consulta(\"Pediatra\")"
   ]
  },
  {
   "cell_type": "markdown",
   "metadata": {},
   "source": [
    "Podemos trabalhar melhor com funções retornos tornando um pouco mais complexo nossa classe Paciente, segue."
   ]
  },
  {
   "cell_type": "code",
   "execution_count": 13,
   "metadata": {},
   "outputs": [
    {
     "name": "stdout",
     "output_type": "stream",
     "text": [
      "Pediatra\n",
      "Oftalmologista\n",
      "Neurologista\n",
      "Psicologo\n",
      "-------------------------------\n",
      "número de consultas marcadas: 0\n",
      "Aprovado dono do cpf: 763-123-341-82\n",
      "marcada com Pediatra\n",
      "-------------------------------\n",
      "número de consultas marcadas: 1\n",
      "Aprovado dono do cpf: 763-123-341-82\n",
      "marcada com Oftalmologista\n",
      "-------------------------------\n",
      "número de consultas marcadas: 2\n",
      "Aprovado dono do cpf: 763-123-341-82\n",
      "marcada com Neurologista\n",
      "-------------------------------\n",
      "número de consultas marcadas: 3\n",
      "Reprovado dono do cpf: 763-123-341-82\n",
      "não fora aceito, limite estrapolado de consultas, tente novamente no próximo mês!\n"
     ]
    }
   ],
   "source": [
    "#modificando os métodos solicitar_aprovacao() e agendar_consulta()\n",
    "#adicionado atributo limite que identifica limite de consultas mensais, nesse caso 3\n",
    "class Paciente:\n",
    "    def __init__(self,nome,cpf,email,telefone):\n",
    "        self.nome = nome\n",
    "        self.cpf = cpf\n",
    "        self.email = email\n",
    "        self.telefone = telefone\n",
    "        self.limite = 0 \n",
    "    \n",
    "    def get_cpf(self):\n",
    "        return self.cpf\n",
    "    def agendar_consulta(self,especialidade):\n",
    "        print(\"número de consultas marcadas:\",self.limite)\n",
    "        if(self.solicitar_aprovacao()):\n",
    "            print(\"marcada com \" + especialidade)\n",
    "            print(\"-------------------------------\")\n",
    "        else:\n",
    "            print(\"não fora aceito, limite estrapolado de consultas, tente novamente no próximo mês!\")\n",
    "    def solicitar_aprovacao(self):\n",
    "        if(self.limite<3):\n",
    "            print(\"Aprovado dono do cpf: \"+ self.get_cpf())\n",
    "            self.limite+=1\n",
    "            return True\n",
    "        else:\n",
    "            print(\"Reprovado dono do cpf: \"+self.get_cpf())\n",
    "            return False\n",
    "    def especialidades(self):\n",
    "        print(\"Pediatra\")\n",
    "        print(\"Oftalmologista\")\n",
    "        print(\"Neurologista\")\n",
    "        print(\"Psicologo\")\n",
    "\n",
    "paciente = Paciente(\"Jorge\",\"763-123-341-82\",\"Jorge@hotmail.com\",\"(27)99233-2134\")\n",
    "paciente.especialidades()\n",
    "print(\"-------------------------------\")\n",
    "paciente.agendar_consulta(\"Pediatra\")\n",
    "paciente.agendar_consulta(\"Oftalmologista\")\n",
    "paciente.agendar_consulta(\"Neurologista\")\n",
    "paciente.agendar_consulta(\"Psicologo\")"
   ]
  },
  {
   "cell_type": "markdown",
   "metadata": {},
   "source": [
    "Um ideia bastante interessante é separar algumas informações em outras classes e fazer agregação depois. No escopo do nosso problema podemos separar dados pessoais do paciente em uma classe diferente denominada cliente."
   ]
  },
  {
   "cell_type": "code",
   "execution_count": 23,
   "metadata": {},
   "outputs": [],
   "source": [
    "#classe cliente criada\n",
    "class Cliente:\n",
    "    def __init__(self,nome,cpf,email,telefone):\n",
    "        self.nome = nome\n",
    "        self.cpf = cpf\n",
    "        self.email = email\n",
    "        self.telefone = telefone\n",
    "        \n",
    "        def get_cpf(self):\n",
    "            return self.cpf\n",
    "        \n",
    "#agregado a classe cliente representando os dados do paciente\n",
    "#adicionado novos atributos, como limite padrao de consultas e tipo de vinculo, gold, prata ...\n",
    "class Paciente:\n",
    "    def __init__(self,cliente,tipo,limite=0):\n",
    "        self.cliente = cliente\n",
    "        self.limite = limite\n",
    "        self.tipo = tipo\n",
    "    \n",
    "    def agendar_consulta(self,especialidade):\n",
    "        print(\"número de consultas marcadas:\",self.limite)\n",
    "        if(self.solicitar_aprovacao()):\n",
    "            print(\"marcada com \" + especialidade)\n",
    "            print(\"-------------------------------\")\n",
    "        else:\n",
    "            print(\"não fora aceito, limite estrapolado de consultas, tente novamente no próximo mês!\")\n",
    "    def solicitar_aprovacao(self):\n",
    "        if(self.limite<3):\n",
    "            print(\"Aprovado dono do cpf: \"+ self.get_cpf())\n",
    "            self.limite+=1\n",
    "            return True\n",
    "        else:\n",
    "            print(\"Reprovado dono do cpf: \"+self.get_cpf())\n",
    "            return False\n",
    "    def especialidades(self):\n",
    "        print(\"Pediatra\")\n",
    "        print(\"Oftalmologista\")\n",
    "        print(\"Neurologista\")\n",
    "        print(\"Psicologo\")\n"
   ]
  },
  {
   "cell_type": "markdown",
   "metadata": {},
   "source": [
    "Isso é importante, foram adicionados novos atributos a classe paciente, pode ser necessário mais informações para a classe, e mantendo todas as caracteristicas do cliente dentro da mesma classe paciente nos traria um monte de atributos. Construindo a classe cliente, levando essas informações nela e agregando ela a classe paciente, tornamos mais elegante e organizado o nosso código."
   ]
  },
  {
   "cell_type": "code",
   "execution_count": 24,
   "metadata": {},
   "outputs": [
    {
     "name": "stdout",
     "output_type": "stream",
     "text": [
      "Jorge\n",
      "763-123-341-82\n"
     ]
    }
   ],
   "source": [
    "#acessando informação da classe cliente pela classe paciente\n",
    "cliente = Cliente(\"Jorge\",\"763-123-341-82\",\"Jorge@hotmail.com\",\"(27)99233-2134\")\n",
    "paciente = Paciente (cliente,\"gold\")\n",
    "print(paciente.cliente.nome)\n",
    "print(paciente.cliente.cpf)"
   ]
  },
  {
   "cell_type": "markdown",
   "metadata": {},
   "source": [
    "Conseguimos acessar as informações a partir do \".\", como cliente é também uma classe teremos algo do tipo, *classe1.classe2.algo*.\n",
    "\n",
    "Existe ainda uma possibilidade de niveis de clientes distintos, podemos diferenciar pessoa física de juridica. <br>\n",
    "Para tal crie uma classe pessoa física que contenha os atributos: Nome,Cpf,Email,Endereço,Telefone,Idade."
   ]
  },
  {
   "cell_type": "code",
   "execution_count": null,
   "metadata": {},
   "outputs": [],
   "source": [
    "##Implemente a classe PessoaFisica abaixo:\n",
    "\n",
    "class PessoaFisica:\n",
    "    "
   ]
  },
  {
   "cell_type": "markdown",
   "metadata": {},
   "source": [
    "Depois de criar A Classe pessoa física, agora crie pessoa juridica, contendo os seguintes atributos: Nome, Cpf, Email, Endereço, Nome fantasia, Telefone, Causa social."
   ]
  },
  {
   "cell_type": "code",
   "execution_count": null,
   "metadata": {},
   "outputs": [],
   "source": [
    "##Implemente a classe PessoaJuridica abaixo:\n",
    "\n",
    "class PessoaJuridica:\n",
    "    "
   ]
  },
  {
   "cell_type": "markdown",
   "metadata": {},
   "source": [
    "Você pode analisar com essas duas classes, que as duas possuem atributos comuns entre elas, se fosse possível unir essas classes com a possibilidade de otimizar e reaproveitar os mesmos atributos? TEM, podemos fazer isso com a herança, conceito que existe na programação orientada a objeto. Se quiser saber melhor sobre, no inicio da aula tem explicado com mais detalhes sobre heranças, conteúdo extra que pode ser visualizado clicando [aqui](#IMPORTANTE----Conteúdo-extra).\n",
    "\n",
    "<br> Crie uma classe pessoa com os atributos semelhantes das duas classes anteriormente implementadas."
   ]
  },
  {
   "cell_type": "code",
   "execution_count": 30,
   "metadata": {},
   "outputs": [
    {
     "ename": "SyntaxError",
     "evalue": "unexpected EOF while parsing (<ipython-input-30-a8a9d172e36f>, line 2)",
     "output_type": "error",
     "traceback": [
      "\u001b[0;36m  File \u001b[0;32m\"<ipython-input-30-a8a9d172e36f>\"\u001b[0;36m, line \u001b[0;32m2\u001b[0m\n\u001b[0;31m    class Pessoa:\u001b[0m\n\u001b[0m                 ^\u001b[0m\n\u001b[0;31mSyntaxError\u001b[0m\u001b[0;31m:\u001b[0m unexpected EOF while parsing\n"
     ]
    }
   ],
   "source": [
    "##Implemente uma classe Pessoa\n",
    "class Pessoa:\n",
    "    "
   ]
  },
  {
   "cell_type": "markdown",
   "metadata": {},
   "source": [
    "Agora implemente as duas classes PessoaFisica e PessoaJuridica que possue os atributos unicos de cada classe."
   ]
  },
  {
   "cell_type": "code",
   "execution_count": 31,
   "metadata": {},
   "outputs": [],
   "source": [
    "##Implemente a classe PessoaFisica novamente\n",
    "class PessoaFisica extends Pessoa:\n",
    "    "
   ]
  },
  {
   "cell_type": "code",
   "execution_count": null,
   "metadata": {},
   "outputs": [],
   "source": [
    "##Implemente a classe PessoaJuridica novamente\n",
    "class PessoaJuridica extends Pessoa:\n",
    "    "
   ]
  },
  {
   "cell_type": "markdown",
   "metadata": {},
   "source": [
    "A palavra chave extends indica que uma classe vai herdar caracteristicas de outra, ou seja tera conhecimento e podera usar tudo que foi definido na classe que ela extende.\n"
   ]
  },
  {
   "attachments": {
    "image.png": {
     "image/png": "[encoded data removed]"
    }
   },
   "cell_type": "markdown",
   "metadata": {},
   "source": [
    "## Conteúdo extra sobre memória \n",
    "\n",
    "Quando chamamos paciente = Paciente (...), pedimos para o Python criar uma nova instancia de Paciente, ou seja criar um objeto paciente, e para isso a linguagem reserva um espaço da memória que seja suficiente para alocar todas as informações da instancia de Paciente, ou seja do nosso objeto. O `__new__()` retorna o endereço para onde foi alocado esse objeto e associa na variável paciente que inicializamos (não costuma ser muito óbvio essa questão de memória, então pensa num endereço de uma casa qualquer, e que para ter acesso as informações dentro da casa você tem que ir até aquele endereço, tente visualizar isso como nosso objeto e a memória do computador).\n",
    "<br>\n",
    "![image.png](attachment:image.png)\n",
    "\n",
    "O que podemos concluir é que na verdade o paciente que acabamos de inicializar não é o objeto em si, e sim uma variável qualquer que guarda uma referência para o objeto que estamos trabalhando. O que acontece se por exemplo eu inicializar uma variável paciente1 e fazer paciente1 = paciente?"
   ]
  },
  {
   "cell_type": "code",
   "execution_count": 28,
   "metadata": {},
   "outputs": [
    {
     "name": "stdout",
     "output_type": "stream",
     "text": [
      "Jorge\n",
      "763-123-341-82\n"
     ]
    }
   ],
   "source": [
    "paciente1 = paciente\n",
    "\n",
    "print(paciente1.cliente.nome)\n",
    "print(paciente1.cliente.cpf)\n"
   ]
  },
  {
   "attachments": {
    "image.png": {
     "image/png": "[encoded data removed]"
    }
   },
   "cell_type": "markdown",
   "metadata": {},
   "source": [
    "Podemos ver que todas as informações que estavam em paciente agora também está em paciente1, mas o que está armazenado em paciente dito anteriormente era na verdade o endereço de memória onde esta armazenado o objeto.<br>\n",
    "\n",
    "![image.png](attachment:image.png)\n",
    "<br> \n",
    "Conclui disso que paciente1 agora também aponta para o mesmo endereço que paciente. Podemos enxergar isso com a função id(), que retorna o endereço de memória da variável.\n"
   ]
  },
  {
   "cell_type": "code",
   "execution_count": 29,
   "metadata": {},
   "outputs": [
    {
     "name": "stdout",
     "output_type": "stream",
     "text": [
      "140368456258784\n",
      "140368456258784\n"
     ]
    }
   ],
   "source": [
    "print(id(paciente))\n",
    "print(id(paciente1))"
   ]
  },
  {
   "cell_type": "markdown",
   "metadata": {},
   "source": [
    "Podemos usar comparadores com essas instancias, e verificar a igualdade entre paciente1 e paciente."
   ]
  },
  {
   "cell_type": "code",
   "execution_count": 21,
   "metadata": {},
   "outputs": [
    {
     "name": "stdout",
     "output_type": "stream",
     "text": [
      "True\n"
     ]
    }
   ],
   "source": [
    "print(paciente1 == paciente)"
   ]
  },
  {
   "cell_type": "markdown",
   "metadata": {},
   "source": [
    "Como vimos são iguais, mas a comparação feita nesse caso é se as duas variáveis apontam para o mesmo endereço, e vimos anteriormente que sim. Se criamos dois pacientes com mesmas informações veremos que mesmo assim não serão vistos como duas coisas iguais."
   ]
  },
  {
   "cell_type": "code",
   "execution_count": 22,
   "metadata": {},
   "outputs": [
    {
     "name": "stdout",
     "output_type": "stream",
     "text": [
      "False\n",
      "140368456459992\n",
      "140368456257608\n"
     ]
    }
   ],
   "source": [
    "paciente2 = Paciente(\"Jorge\",\"763-123-341-82\",\"Jorge@hotmail.com\",\"(27)99233-2134\")\n",
    "\n",
    "print(paciente2 == paciente)\n",
    "print(id(paciente))\n",
    "print(id(paciente2))"
   ]
  }
 ],
 "metadata": {
  "kernelspec": {
   "display_name": "Python 3",
   "language": "python",
   "name": "python3"
  },
  "language_info": {
   "codemirror_mode": {
    "name": "ipython",
    "version": 3
   },
   "file_extension": ".py",
   "mimetype": "text/x-python",
   "name": "python",
   "nbconvert_exporter": "python",
   "pygments_lexer": "ipython3",
   "version": "3.6.7"
  }
 },
 "nbformat": 4,
 "nbformat_minor": 2
}
